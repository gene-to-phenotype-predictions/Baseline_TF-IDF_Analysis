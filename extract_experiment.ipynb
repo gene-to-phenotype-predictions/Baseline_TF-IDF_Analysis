{
 "cells": [
  {
   "cell_type": "code",
   "execution_count": 1,
   "metadata": {},
   "outputs": [],
   "source": [
    "import os as os\n",
    "import sys as sys\n",
    "import re as re\n",
    "import pandas as pd\n",
    "import numpy as np\n",
    "import json as json\n",
    "import urllib as urllib\n",
    "import zlib as zlib\n",
    "import base64 as base64\n",
    "from requests import Request, Session\n",
    "from numpy import trapz\n",
    "import itertools\n",
    "import zlib as zlib\n",
    "import base64 as base64\n",
    "from tqdm import tqdm\n",
    "import pickle\n",
    "import pathlib\n",
    "import tqdm\n",
    "from datetime import datetime\n",
    "\n",
    "pd.options.display.max_columns = 100\n",
    "pd.options.display.min_rows = None\n",
    "pd.options.display.max_rows = 20\n",
    "pd.options.display.max_colwidth = 10000"
   ]
  },
  {
   "cell_type": "code",
   "execution_count": 2,
   "metadata": {},
   "outputs": [
    {
     "ename": "NameError",
     "evalue": "name 'project_path' is not defined",
     "output_type": "error",
     "traceback": [
      "\u001b[0;31m---------------------------------------------------------------------------\u001b[0m",
      "\u001b[0;31mNameError\u001b[0m                                 Traceback (most recent call last)",
      "\u001b[1;32m/data1/home/adpatter/gene-to-phenotype-predictions/adpatter/extract_experiment.ipynb Cell 2\u001b[0m in \u001b[0;36m<module>\u001b[0;34m\u001b[0m\n\u001b[0;32m----> <a href='vscode-notebook-cell://ssh-remote%2Bnellodee.si.umich.edu/data1/home/adpatter/gene-to-phenotype-predictions/adpatter/extract_experiment.ipynb#X10sdnNjb2RlLXJlbW90ZQ%3D%3D?line=0'>1</a>\u001b[0m utils_path \u001b[39m=\u001b[39m project_path\u001b[39m.\u001b[39mas_posix()\n\u001b[1;32m      <a href='vscode-notebook-cell://ssh-remote%2Bnellodee.si.umich.edu/data1/home/adpatter/gene-to-phenotype-predictions/adpatter/extract_experiment.ipynb#X10sdnNjb2RlLXJlbW90ZQ%3D%3D?line=1'>2</a>\u001b[0m \u001b[39mif\u001b[39;00m utils_path \u001b[39mnot\u001b[39;00m \u001b[39min\u001b[39;00m sys\u001b[39m.\u001b[39mpath: sys\u001b[39m.\u001b[39mpath\u001b[39m.\u001b[39mappend(utils_path)\n\u001b[1;32m      <a href='vscode-notebook-cell://ssh-remote%2Bnellodee.si.umich.edu/data1/home/adpatter/gene-to-phenotype-predictions/adpatter/extract_experiment.ipynb#X10sdnNjb2RlLXJlbW90ZQ%3D%3D?line=2'>3</a>\u001b[0m \u001b[39mfrom\u001b[39;00m \u001b[39mutils\u001b[39;00m \u001b[39mimport\u001b[39;00m solr\n",
      "\u001b[0;31mNameError\u001b[0m: name 'project_path' is not defined"
     ]
    }
   ],
   "source": [
    "utils_path = project_path.as_posix()\n",
    "if utils_path not in sys.path: sys.path.append(utils_path)\n",
    "from utils import solr\n",
    "from utils.logger import logger as log\n",
    "\n",
    "log.info('START')\n",
    "\n",
    "ROWS = solr.select('experiment', {'params':{'q':'*:*', 'rows':0}})['response']['numFound']\n",
    "\n",
    "print(ROWS)"
   ]
  },
  {
   "cell_type": "code",
   "execution_count": null,
   "metadata": {},
   "outputs": [],
   "source": [
    "data = solr.select('experiment', \n",
    "{\n",
    "    'params':\n",
    "    {\n",
    "        'q':'*:*',\n",
    "        'wt':'csv',\n",
    "        'rows': 0,\n",
    "        'facet':''\n",
    "    }\n",
    "})\n",
    "\n",
    "fl = pd.Series(data.decode('utf-8').split(','))\n",
    "\n",
    "fl = ','.join(fl.sort_values().str.strip().tolist())\n",
    "\n",
    "fl.split(',')"
   ]
  },
  {
   "cell_type": "code",
   "execution_count": null,
   "metadata": {},
   "outputs": [],
   "source": [
    "q = f'''\n",
    "specimen_id:[* TO *] AND \n",
    "allele_accession_id:[* TO *] AND \n",
    "gene_symbol:[* TO *] AND \n",
    "sex:[* TO *] AND \n",
    "parameter_name:[* TO *] AND\n",
    "procedure_name:[* TO *]  AND\n",
    "life_stage_name:[* TO *]'''\n",
    "     \n",
    "fl = 'procedure_name,parameter_name'\n",
    "\n",
    "data = solr.select('experiment', \n",
    "{\n",
    "    'params':\n",
    "    {\n",
    "        'q':q,\n",
    "        'rows': ROWS,\n",
    "        'fl':fl\n",
    "    }\n",
    "})\n",
    "\n",
    "log.info('Create dataframe.')\n",
    "\n",
    "df = pd.DataFrame(data['response']['docs'])\n",
    "\n",
    "df = df.drop_duplicates()\n",
    "\n",
    "log.info('Write to file.')\n",
    "\n",
    "df.to_pickle('phenotypes.pkl')"
   ]
  },
  {
   "cell_type": "code",
   "execution_count": null,
   "metadata": {},
   "outputs": [],
   "source": [
    "# q = f'''specimen_id:[* TO *] AND allele_accession_id:[* TO *] AND gene_symbol:[* TO *] AND sex:[* TO *] AND life_stage_name:[* TO *]'''\n",
    "     \n",
    "# fl = 'gene_symbol,gene_accession_id,allele_accession_id,allele_symbol,weight,sex,life_stage_name'\n",
    "\n",
    "# data = solr.select('experiment', \n",
    "# {\n",
    "#     'params':\n",
    "#     {\n",
    "#         'q':q,\n",
    "#         'rows': ROWS,\n",
    "#         'fl':fl\n",
    "#     }\n",
    "# })\n",
    "\n",
    "# df = pd.DataFrame(data['response']['docs'])\n",
    "\n",
    "# df.to_pickle('gene_weight.pkl')"
   ]
  },
  {
   "cell_type": "code",
   "execution_count": null,
   "metadata": {},
   "outputs": [],
   "source": [
    "# df = pd.DataFrame(data['response']['docs'])\n",
    "\n",
    "# df"
   ]
  },
  {
   "cell_type": "code",
   "execution_count": null,
   "metadata": {},
   "outputs": [],
   "source": [
    "# fl = ','.join([\n",
    "#     'specimen_id',\n",
    "#     'biological_sample_group',\n",
    "#     'allele_accession_id',\n",
    "#     'procedure_name', \n",
    "#     'parameter_name', \n",
    "#     'procedure_sequence_id',\n",
    "#     'strain_name', \n",
    "#     'strain_accession_id',\n",
    "#     'sex',\n",
    "#     'weight',\n",
    "#     'zygosity',\n",
    "#     'life_stage_name',\n",
    "#     'date_of_experiment',\n",
    "#     'data_point',\n",
    "#     'observation_type'\n",
    "#     ])\n",
    "\n",
    "# fl"
   ]
  },
  {
   "cell_type": "code",
   "execution_count": null,
   "metadata": {},
   "outputs": [],
   "source": [
    "# observation_type = 'unidimensional'\n",
    "\n",
    "# q = f'''\\\n",
    "#         specimen_id:[* TO *] AND \\\n",
    "#         (strain_name:[* TO *] OR strain_accession_id:[* TO *]) AND \\\n",
    "#         life_stage_name:[* TO *] AND \\\n",
    "#         observation_type:{observation_type} AND \\\n",
    "#         data_point:[* TO *] AND \\\n",
    "#         (\\\n",
    "#             (\\\n",
    "#                 allele_accession_id:[* TO *] AND \\\n",
    "#                 zygosity:[* TO *] AND \\\n",
    "#                 biological_sample_group:experimental\\\n",
    "#             ) OR \\\n",
    "#             biological_sample_group:control \\\n",
    "#         )'''\n",
    "\n",
    "# log.info('Start extract.')\n",
    "\n",
    "# data = solr.select('experiment', \n",
    "# {\n",
    "#     'params':\n",
    "#     {\n",
    "#         'q':q,\n",
    "#         'rows': ROWS,\n",
    "#         'fl':fl\n",
    "#     }\n",
    "# })\n",
    "\n",
    "# file_path = primary_data_path.joinpath(f'extract_{observation_type}_experiment.pkl')\n",
    "\n",
    "# log.info('Create dataframe.')\n",
    "\n",
    "# df = pd.DataFrame(data['response']['docs'])\n",
    "\n",
    "# log.info('Write to file.')\n",
    "\n",
    "# df.to_pickle(file_path)"
   ]
  }
 ],
 "metadata": {
  "kernelspec": {
   "display_name": "Development",
   "language": "python",
   "name": "development"
  },
  "language_info": {
   "codemirror_mode": {
    "name": "ipython",
    "version": 3
   },
   "file_extension": ".py",
   "mimetype": "text/x-python",
   "name": "python",
   "nbconvert_exporter": "python",
   "pygments_lexer": "ipython3",
   "version": "3.9.10 | packaged by conda-forge | (main, Feb  1 2022, 21:24:37) \n[GCC 9.4.0]"
  },
  "orig_nbformat": 4,
  "vscode": {
   "interpreter": {
    "hash": "a2d6514f9963693ddf9848f840dcbc46c3e7b9abcac09ab97b6beeb9a964f0bf"
   }
  }
 },
 "nbformat": 4,
 "nbformat_minor": 2
}
