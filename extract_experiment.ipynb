{
 "cells": [
  {
   "cell_type": "code",
   "execution_count": 1,
   "metadata": {},
   "outputs": [],
   "source": [
    "import os as os\n",
    "import sys as sys\n",
    "import re as re\n",
    "import pandas as pd\n",
    "import numpy as np\n",
    "import json as json\n",
    "import urllib as urllib\n",
    "import zlib as zlib\n",
    "import base64 as base64\n",
    "from requests import Request, Session\n",
    "from numpy import trapz\n",
    "import itertools\n",
    "import zlib as zlib\n",
    "import base64 as base64\n",
    "from tqdm import tqdm\n",
    "import pickle\n",
    "import pathlib\n",
    "import tqdm\n",
    "from datetime import datetime\n",
    "\n",
    "pd.options.display.max_columns = 100\n",
    "pd.options.display.min_rows = None\n",
    "pd.options.display.max_rows = 20\n",
    "pd.options.display.max_colwidth = 10000"
   ]
  },
  {
   "cell_type": "code",
   "execution_count": 2,
   "metadata": {},
   "outputs": [
    {
     "name": "stdout",
     "output_type": "stream",
     "text": [
      "2023-02-04 15:19:35,062 - INFO - START\n",
      "82421326\n"
     ]
    }
   ],
   "source": [
    "from utils import solr\n",
    "from utils.logger import logger as log\n",
    "\n",
    "log.info('START')\n",
    "\n",
    "ROWS = solr.select('experiment', {'params':{'q':'*:*', 'rows':0}})['response']['numFound']\n",
    "\n",
    "print(ROWS)"
   ]
  },
  {
   "cell_type": "code",
   "execution_count": 3,
   "metadata": {},
   "outputs": [
    {
     "data": {
      "text/plain": [
       "['_version_',\n",
       " 'age_in_days',\n",
       " 'age_in_weeks',\n",
       " 'allele_accession_id',\n",
       " 'allele_symbol',\n",
       " 'allelic_composition',\n",
       " 'biological_sample_group',\n",
       " 'category',\n",
       " 'colony_id',\n",
       " 'data_point',\n",
       " 'datasource_name',\n",
       " 'date_of_birth',\n",
       " 'date_of_experiment',\n",
       " 'developmental_stage_acc',\n",
       " 'developmental_stage_name',\n",
       " 'discrete_point',\n",
       " 'download_file_path',\n",
       " 'experiment_id',\n",
       " 'experiment_source_id',\n",
       " 'external_sample_id',\n",
       " 'file_type',\n",
       " 'gene_accession_id',\n",
       " 'gene_symbol',\n",
       " 'genetic_background',\n",
       " 'id',\n",
       " 'image_link',\n",
       " 'increment_value',\n",
       " 'life_stage_acc',\n",
       " 'life_stage_name',\n",
       " 'litter_id',\n",
       " 'metadata',\n",
       " 'metadata_group',\n",
       " 'observation_id',\n",
       " 'observation_type',\n",
       " 'parameter_association_name',\n",
       " 'parameter_association_sequence_id',\n",
       " 'parameter_association_stable_id',\n",
       " 'parameter_association_value',\n",
       " 'parameter_name',\n",
       " 'parameter_stable_id',\n",
       " 'phenotyping_center',\n",
       " 'pipeline_name',\n",
       " 'pipeline_stable_id',\n",
       " 'procedure_group',\n",
       " 'procedure_name',\n",
       " 'procedure_sequence_id',\n",
       " 'procedure_stable_id',\n",
       " 'production_center',\n",
       " 'project_name',\n",
       " 'sequence_id',\n",
       " 'sex',\n",
       " 'specimen_id',\n",
       " 'strain_accession_id',\n",
       " 'strain_name',\n",
       " 'sub_term_description',\n",
       " 'sub_term_id',\n",
       " 'sub_term_name',\n",
       " 'text_value',\n",
       " 'time_point',\n",
       " 'weight',\n",
       " 'weight_date',\n",
       " 'weight_days_old',\n",
       " 'weight_parameter_stable_id',\n",
       " 'zygosity']"
      ]
     },
     "execution_count": 3,
     "metadata": {},
     "output_type": "execute_result"
    }
   ],
   "source": [
    "data = solr.select('experiment', \n",
    "{\n",
    "    'params':\n",
    "    {\n",
    "        'q':'*:*',\n",
    "        'wt':'csv',\n",
    "        'rows': 0,\n",
    "        'facet':''\n",
    "    }\n",
    "})\n",
    "\n",
    "fl = pd.Series(data.decode('utf-8').split(','))\n",
    "\n",
    "fl = ','.join(fl.sort_values().str.strip().tolist())\n",
    "\n",
    "fl.split(',')"
   ]
  },
  {
   "cell_type": "code",
   "execution_count": 4,
   "metadata": {},
   "outputs": [
    {
     "name": "stdout",
     "output_type": "stream",
     "text": [
      "2023-02-04 15:51:54,642 - INFO - Create dataframe.\n",
      "2023-02-04 15:52:55,296 - INFO - Write to file.\n"
     ]
    }
   ],
   "source": [
    "q = f'''\n",
    "specimen_id:[* TO *] AND \n",
    "allele_accession_id:[* TO *] AND \n",
    "gene_symbol:[* TO *] AND \n",
    "sex:[* TO *] AND \n",
    "parameter_name:[* TO *] AND\n",
    "procedure_name:[* TO *]  AND\n",
    "life_stage_name:[* TO *]'''\n",
    "     \n",
    "fl = 'procedure_name,parameter_name'\n",
    "\n",
    "data = solr.select('experiment', \n",
    "{\n",
    "    'params':\n",
    "    {\n",
    "        'q':q,\n",
    "        'rows': ROWS,\n",
    "        'fl':fl\n",
    "    }\n",
    "})\n",
    "\n",
    "log.info('Create dataframe.')\n",
    "\n",
    "df = pd.DataFrame(data['response']['docs'])\n",
    "\n",
    "df = df.drop_duplicates()\n",
    "\n",
    "log.info('Write to file.')\n",
    "\n",
    "df.to_pickle('phenotypes.pkl')"
   ]
  },
  {
   "cell_type": "code",
   "execution_count": 10,
   "metadata": {},
   "outputs": [
    {
     "data": {
      "text/html": [
       "<div>\n",
       "<style scoped>\n",
       "    .dataframe tbody tr th:only-of-type {\n",
       "        vertical-align: middle;\n",
       "    }\n",
       "\n",
       "    .dataframe tbody tr th {\n",
       "        vertical-align: top;\n",
       "    }\n",
       "\n",
       "    .dataframe thead th {\n",
       "        text-align: right;\n",
       "    }\n",
       "</style>\n",
       "<table border=\"1\" class=\"dataframe\">\n",
       "  <thead>\n",
       "    <tr style=\"text-align: right;\">\n",
       "      <th></th>\n",
       "      <th>procedure_name</th>\n",
       "      <th>parameter_name</th>\n",
       "    </tr>\n",
       "  </thead>\n",
       "  <tbody>\n",
       "    <tr>\n",
       "      <th>1</th>\n",
       "      <td>Body Weight</td>\n",
       "      <td>Body weight</td>\n",
       "    </tr>\n",
       "    <tr>\n",
       "      <th>26</th>\n",
       "      <td>Body Weight</td>\n",
       "      <td>Body Weight Curve Pipeline Two</td>\n",
       "    </tr>\n",
       "    <tr>\n",
       "      <th>27</th>\n",
       "      <td>Body Weight</td>\n",
       "      <td>Body weight curve</td>\n",
       "    </tr>\n",
       "    <tr>\n",
       "      <th>230</th>\n",
       "      <td>Body Weight</td>\n",
       "      <td>Body Weight</td>\n",
       "    </tr>\n",
       "    <tr>\n",
       "      <th>1068</th>\n",
       "      <td>Body Weight</td>\n",
       "      <td>Body Weight Curve Pipeline One</td>\n",
       "    </tr>\n",
       "  </tbody>\n",
       "</table>\n",
       "</div>"
      ],
      "text/plain": [
       "     procedure_name                  parameter_name\n",
       "1       Body Weight                     Body weight\n",
       "26      Body Weight  Body Weight Curve Pipeline Two\n",
       "27      Body Weight               Body weight curve\n",
       "230     Body Weight                     Body Weight\n",
       "1068    Body Weight  Body Weight Curve Pipeline One"
      ]
     },
     "execution_count": 10,
     "metadata": {},
     "output_type": "execute_result"
    }
   ],
   "source": [
    "df = pd.read_pickle('phenotypes.pkl')\n",
    "\n",
    "df.loc[df.apply(lambda x: x.str.strip().str.lower().str.replace(r' {2}', ' ').str.contains(r'body weight').sum() == 2, axis=1)]"
   ]
  },
  {
   "cell_type": "code",
   "execution_count": null,
   "metadata": {},
   "outputs": [],
   "source": []
  }
 ],
 "metadata": {
  "kernelspec": {
   "display_name": "Development",
   "language": "python",
   "name": "development"
  },
  "language_info": {
   "codemirror_mode": {
    "name": "ipython",
    "version": 3
   },
   "file_extension": ".py",
   "mimetype": "text/x-python",
   "name": "python",
   "nbconvert_exporter": "python",
   "pygments_lexer": "ipython3",
   "version": "3.9.10"
  },
  "orig_nbformat": 4,
  "vscode": {
   "interpreter": {
    "hash": "a2d6514f9963693ddf9848f840dcbc46c3e7b9abcac09ab97b6beeb9a964f0bf"
   }
  }
 },
 "nbformat": 4,
 "nbformat_minor": 2
}
