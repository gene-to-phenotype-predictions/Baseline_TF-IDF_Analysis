{
 "cells": [
  {
   "cell_type": "code",
   "execution_count": 1,
   "metadata": {},
   "outputs": [],
   "source": [
    "import os as os\n",
    "import sys as sys\n",
    "import re as re\n",
    "import pandas as pd\n",
    "import numpy as np\n",
    "import json as json\n",
    "import pickle\n",
    "import urllib as urllib\n",
    "import zlib as zlib\n",
    "import base64 as base64\n",
    "from requests import Request, Session\n",
    "import requests\n",
    "from numpy import trapz\n",
    "import itertools\n",
    "import zlib as zlib\n",
    "import base64 as base64\n",
    "import pickle\n",
    "import pathlib\n",
    "from tqdm import tqdm\n",
    "from datetime import datetime\n",
    "import time\n",
    "import copy\n",
    "import nltk\n",
    "from sklearn.feature_extraction.text import TfidfVectorizer\n",
    "from sklearn.linear_model import LinearRegression\n",
    "from sklearn.model_selection import train_test_split\n",
    "\n",
    "from utils import solr\n",
    "from utils.logger import logger as log\n",
    "\n",
    "pd.options.display.max_columns = 100\n",
    "pd.options.display.min_rows = None\n",
    "pd.options.display.max_rows = 20\n",
    "pd.options.display.max_colwidth = 100"
   ]
  },
  {
   "cell_type": "code",
   "execution_count": 130,
   "metadata": {},
   "outputs": [],
   "source": [
    "df = pd.read_csv('/data1/home/adpatter/gene-to-phenotype-predictions/adpatter/data/capstone_body_weight_Statistical_effect_size_analysis_genotype_early_adult_scaled.csv')\n",
    "\n",
    "df = df.drop(['Unnamed: 0'], axis=1)\n",
    "\n",
    "df = df.loc[df['zygosity'] == 'homozygote']\n",
    "\n",
    "df = df.loc[(df['procedure_name'] == 'body weight') & (df['parameter_name'] == 'body weight')]\n",
    "\n",
    "df = df.loc[~df['gene_symbol'].duplicated(keep=False)]\n",
    "\n",
    "df = df[['gene_symbol', 'est_m_ea', 'se_m_ea', 'p_m_ea']]\n",
    "\n",
    "df_effect_size = df.copy()"
   ]
  },
  {
   "cell_type": "code",
   "execution_count": 143,
   "metadata": {},
   "outputs": [],
   "source": [
    "df = pd.read_pickle('/data1/home/adpatter/gene-to-phenotype-predictions/adpatter/data/gene_symbol_protein_sequence_all.pkl')\n",
    "\n",
    "df = df[['gene_symbol', 'sequence']]\n",
    "\n",
    "df = df_effect_size.merge(df, how='left', on='gene_symbol')\n",
    "\n",
    "df = df.loc[df['sequence'].notna()]\n",
    "\n",
    "df = df.groupby(['sequence'], group_keys=False, dropna=False).apply(lambda x: x.loc[x['est_m_ea'].abs() == x['est_m_ea'].abs().max()].iloc[0:1])\n",
    "\n",
    "df = df.reset_index(drop=True)\n",
    "\n",
    "df_effect_size_seq = df.copy()"
   ]
  },
  {
   "cell_type": "code",
   "execution_count": null,
   "metadata": {},
   "outputs": [
    {
     "data": {
      "text/html": [
       "<div>\n",
       "<style scoped>\n",
       "    .dataframe tbody tr th:only-of-type {\n",
       "        vertical-align: middle;\n",
       "    }\n",
       "\n",
       "    .dataframe tbody tr th {\n",
       "        vertical-align: top;\n",
       "    }\n",
       "\n",
       "    .dataframe thead th {\n",
       "        text-align: right;\n",
       "    }\n",
       "</style>\n",
       "<table border=\"1\" class=\"dataframe\">\n",
       "  <thead>\n",
       "    <tr style=\"text-align: right;\">\n",
       "      <th></th>\n",
       "      <th>gene_symbol</th>\n",
       "      <th>est_m_ea</th>\n",
       "      <th>se_m_ea</th>\n",
       "      <th>p_m_ea</th>\n",
       "      <th>sequence</th>\n",
       "    </tr>\n",
       "  </thead>\n",
       "  <tbody>\n",
       "  </tbody>\n",
       "</table>\n",
       "</div>"
      ],
      "text/plain": [
       "Empty DataFrame\n",
       "Columns: [gene_symbol, est_m_ea, se_m_ea, p_m_ea, sequence]\n",
       "Index: []"
      ]
     },
     "execution_count": 141,
     "metadata": {},
     "output_type": "execute_result"
    }
   ],
   "source": [
    "df = df_effect_size_seq.copy()\n",
    "\n",
    "df"
   ]
  },
  {
   "cell_type": "code",
   "execution_count": 42,
   "metadata": {},
   "outputs": [
    {
     "data": {
      "text/plain": [
       "-1.2910579002777913"
      ]
     },
     "execution_count": 42,
     "metadata": {},
     "output_type": "execute_result"
    }
   ],
   "source": [
    "def create_document(sequence, k):\n",
    "    document = ' '.join([sequence[i:i+k] for i in range(0, len(sequence), k)])\n",
    "    return document\n",
    "\n",
    "df = df_effect_size_sequence.copy()\n",
    "\n",
    "df['doc'] = df['sequence'].apply(lambda x: create_document(x, 2))\n",
    "\n",
    "docs = df['doc'].tolist()\n",
    "\n",
    "vectorizer = TfidfVectorizer(tokenizer=str.split, analyzer='word', ngram_range=(5,5), min_df=1)\n",
    "\n",
    "X = vectorizer.fit_transform(docs)\n",
    "\n",
    "y = df['est_m_ea'].to_numpy().copy()\n",
    "\n",
    "X_train, X_test, y_train, y_test = train_test_split(X, y)\n",
    "\n",
    "reg = LinearRegression().fit(X_train, y_train)\n",
    "\n",
    "reg.score(X_test, y_test)"
   ]
  },
  {
   "cell_type": "code",
   "execution_count": 6,
   "metadata": {},
   "outputs": [],
   "source": [
    "# import sys\n",
    "# import pathlib\n",
    "# from subprocess import run\n",
    "\n",
    "# project_path = pathlib.Path('/data1/home/adpatter/mouse-aging-deep-phenotyping/adpatter').resolve()\n",
    "\n",
    "# if project_path.as_posix() not in sys.path: sys.path.append(project_path.as_posix())\n",
    "# from utils.logger import logger as log\n",
    "\n",
    "# project_path = pathlib.Path('/data1/home/adpatter/mouse-aging-deep-phenotyping/adpatter')\n",
    "# run_path = project_path.joinpath('run')\n",
    "# main_path = project_path.joinpath('main')"
   ]
  },
  {
   "cell_type": "code",
   "execution_count": 7,
   "metadata": {},
   "outputs": [],
   "source": [
    "# run(f\"jupyter nbconvert --to=python --output-dir={run_path} {main_path.joinpath('extract_unidimensional_experiment_20220324_173145.ipynb')}\", shell=True)\n",
    "# run(f\"jupyter nbconvert --to=python --output-dir={run_path} {main_path.joinpath('extract_categorical_experiment_20220324_173145.ipynb')}\", shell=True)\n",
    "# run(f\"jupyter nbconvert --to=python --output-dir={run_path} {main_path.joinpath('combine_experiment.ipynb')}\", shell=True)\n",
    "# run(f\"jupyter nbconvert --to=python --output-dir={run_path} {main_path.joinpath('harmonize_experiment.ipynb')}\", shell=True)\n",
    "# run(f\"jupyter nbconvert --to=python --output-dir={run_path} {main_path.joinpath('vector_transform_experiment.ipynb')}\", shell=True)\n",
    "# run(f\"jupyter nbconvert --to=python --output-dir={run_path} {main_path.joinpath('vector_transform_experiment_wp1.ipynb')}\", shell=True)\n",
    "# run(f\"jupyter nbconvert --to=python --output-dir={run_path} {main_path.joinpath('vector_transform_experiment_wp2.ipynb')}\", shell=True)"
   ]
  },
  {
   "cell_type": "code",
   "execution_count": 8,
   "metadata": {},
   "outputs": [],
   "source": [
    "# # log.info('Run extract_unidimensional_experiment_20220324_173145.py')\n",
    "# # run(f\"python {run_path}/extract_unidimensional_experiment_20220324_173145.py', shell=True)\n",
    "\n",
    "# # log.info('Run extract_categorical_experiment_20220324_173145.py')\n",
    "# # run(f\"python {run_path}/extract_categorical_experiment_20220324_173145.py', shell=True)\n",
    "\n",
    "# log.info('Run combine_experiment.py')\n",
    "# run(f\"python {run_path.joinpath('combine_experiment.py')}\", shell=True)\n",
    "\n",
    "# log.info('Run harmonize_experiment.py')\n",
    "# run(f\"python {run_path.joinpath('harmonize_experiment.py')}\", shell=True)\n",
    "\n",
    "# log.info('Run vector_transform_experiment.py')\n",
    "# run(f\"python {run_path.joinpath('vector_transform_experiment.py')}\", shell=True)\n",
    "\n",
    "# log.info('Run vector_transform_experiment.py')\n",
    "# run(f\"python {run_path.joinpath('vector_transform_experiment_wp1.py')}\", shell=True)\n",
    "\n",
    "# log.info('Run vector_transform_experiment.py')\n",
    "# run(f\"python {run_path.joinpath('vector_transform_experiment_wp_2.py')}\", shell=True)"
   ]
  },
  {
   "cell_type": "code",
   "execution_count": null,
   "metadata": {},
   "outputs": [],
   "source": []
  }
 ],
 "metadata": {
  "kernelspec": {
   "display_name": "development",
   "language": "python",
   "name": "python3"
  },
  "language_info": {
   "codemirror_mode": {
    "name": "ipython",
    "version": 3
   },
   "file_extension": ".py",
   "mimetype": "text/x-python",
   "name": "python",
   "nbconvert_exporter": "python",
   "pygments_lexer": "ipython3",
   "version": "3.9.10 | packaged by conda-forge | (main, Feb  1 2022, 21:24:37) \n[GCC 9.4.0]"
  },
  "orig_nbformat": 4,
  "vscode": {
   "interpreter": {
    "hash": "a2d6514f9963693ddf9848f840dcbc46c3e7b9abcac09ab97b6beeb9a964f0bf"
   }
  }
 },
 "nbformat": 4,
 "nbformat_minor": 2
}
