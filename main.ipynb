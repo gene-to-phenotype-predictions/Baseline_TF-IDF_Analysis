{
 "cells": [
  {
   "cell_type": "code",
   "execution_count": 3,
   "metadata": {},
   "outputs": [],
   "source": [
    "import os as os\n",
    "import sys as sys\n",
    "import re as re\n",
    "import pandas as pd\n",
    "import numpy as np\n",
    "import json as json\n",
    "from subprocess import run\n",
    "\n",
    "pd.options.display.max_columns = 100\n",
    "pd.options.display.min_rows = None\n",
    "pd.options.display.max_rows = 20\n",
    "pd.options.display.max_colwidth = 100\n",
    "\n",
    "from config import RANDOM_STATE, RESULTS_PATH"
   ]
  },
  {
   "cell_type": "code",
   "execution_count": 4,
   "metadata": {},
   "outputs": [
    {
     "name": "stderr",
     "output_type": "stream",
     "text": [
      "[NbConvertApp] Converting notebook gene_symbol_sequences.ipynb to python\n",
      "[NbConvertApp] Writing 3682 bytes to gene_symbol_sequences.py\n",
      "[NbConvertApp] Converting notebook ngram_analysis.ipynb to python\n",
      "[NbConvertApp] Writing 3996 bytes to ngram_analysis.py\n",
      "[NbConvertApp] Converting notebook classification.ipynb to python\n",
      "[NbConvertApp] Writing 12180 bytes to classification.py\n"
     ]
    },
    {
     "data": {
      "text/plain": [
       "CompletedProcess(args=\"jupyter nbconvert --to=python --output-dir='./' classification.ipynb\", returncode=0)"
      ]
     },
     "execution_count": 4,
     "metadata": {},
     "output_type": "execute_result"
    }
   ],
   "source": [
    "run(f\"jupyter nbconvert --to=python --output-dir='./' gene_symbol_sequences.ipynb\", shell=True)\n",
    "run(f\"jupyter nbconvert --to=python --output-dir='./' ngram_analysis.ipynb\", shell=True)\n",
    "run(f\"jupyter nbconvert --to=python --output-dir='./' classification.ipynb\", shell=True)"
   ]
  },
  {
   "cell_type": "code",
   "execution_count": null,
   "metadata": {},
   "outputs": [],
   "source": [
    "# run(f\"python gene_symbol_sequences.py\", shell=True)\n",
    "# run(f\"python ngram_analysis.py\", shell=True)\n",
    "run(f\"python classification.py\", shell=True)"
   ]
  },
  {
   "cell_type": "code",
   "execution_count": null,
   "metadata": {},
   "outputs": [],
   "source": []
  }
 ],
 "metadata": {
  "kernelspec": {
   "display_name": "development",
   "language": "python",
   "name": "python3"
  },
  "language_info": {
   "codemirror_mode": {
    "name": "ipython",
    "version": 3
   },
   "file_extension": ".py",
   "mimetype": "text/x-python",
   "name": "python",
   "nbconvert_exporter": "python",
   "pygments_lexer": "ipython3",
   "version": "3.9.10 | packaged by conda-forge | (main, Feb  1 2022, 21:24:37) \n[GCC 9.4.0]"
  },
  "orig_nbformat": 4,
  "vscode": {
   "interpreter": {
    "hash": "a2d6514f9963693ddf9848f840dcbc46c3e7b9abcac09ab97b6beeb9a964f0bf"
   }
  }
 },
 "nbformat": 4,
 "nbformat_minor": 2
}
