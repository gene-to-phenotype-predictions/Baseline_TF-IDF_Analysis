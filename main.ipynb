{
 "cells": [
  {
   "cell_type": "code",
   "execution_count": 1,
   "metadata": {},
   "outputs": [],
   "source": [
    "import os as os\n",
    "import sys as sys\n",
    "import re as re\n",
    "import pandas as pd\n",
    "import numpy as np\n",
    "import json as json\n",
    "import pickle\n",
    "import urllib as urllib\n",
    "import zlib as zlib\n",
    "import base64 as base64\n",
    "from requests import Request, Session\n",
    "import requests\n",
    "from numpy import trapz\n",
    "import itertools\n",
    "import zlib as zlib\n",
    "import base64 as base64\n",
    "import pickle\n",
    "import pathlib\n",
    "from tqdm import tqdm\n",
    "from datetime import datetime\n",
    "import time\n",
    "import copy\n",
    "\n",
    "from utils import solr\n",
    "from utils.logger import logger as log\n",
    "\n",
    "pd.options.display.max_columns = 100\n",
    "pd.options.display.min_rows = None\n",
    "pd.options.display.max_rows = 20\n",
    "pd.options.display.max_colwidth = 10000"
   ]
  },
  {
   "cell_type": "code",
   "execution_count": 10,
   "metadata": {},
   "outputs": [],
   "source": [
    "df = pd.read_csv('/data1/home/adpatter/gene-to-phenotype-predictions/adpatter/data/capstone_body_weight_Statistical_effect_size_analysis_genotype_early_adult_scaled.csv')\n",
    "\n",
    "df = df.drop(['Unnamed: 0'], axis=1)\n",
    "\n",
    "df_effect_size = df.copy()"
   ]
  },
  {
   "cell_type": "code",
   "execution_count": 12,
   "metadata": {},
   "outputs": [],
   "source": [
    "df = pd.read_pickle('/data1/home/adpatter/gene-to-phenotype-predictions/adpatter/data/gene_symbol_protein_sequence_all.pkl')\n",
    "\n",
    "df_protein = df.copy()"
   ]
  },
  {
   "cell_type": "code",
   "execution_count": 21,
   "metadata": {},
   "outputs": [
    {
     "data": {
      "text/plain": [
       "(63,)"
      ]
     },
     "execution_count": 21,
     "metadata": {},
     "output_type": "execute_result"
    }
   ],
   "source": [
    "df = df_effect_size.copy()\n",
    "\n",
    "df = df.merge(df_protein, on=['gene_symbol'], how='left')\n",
    "\n",
    "df = df.loc[df['sequence'].isna()]\n",
    "\n",
    "df.loc[df.isna().any(axis=1)]\n",
    "\n",
    "df['gene_symbol'].drop_duplicates().shape"
   ]
  },
  {
   "cell_type": "code",
   "execution_count": null,
   "metadata": {},
   "outputs": [],
   "source": [
    "# import sys\n",
    "# import pathlib\n",
    "# from subprocess import run\n",
    "\n",
    "# project_path = pathlib.Path('/data1/home/adpatter/mouse-aging-deep-phenotyping/adpatter').resolve()\n",
    "\n",
    "# if project_path.as_posix() not in sys.path: sys.path.append(project_path.as_posix())\n",
    "# from utils.logger import logger as log\n",
    "\n",
    "# project_path = pathlib.Path('/data1/home/adpatter/mouse-aging-deep-phenotyping/adpatter')\n",
    "# run_path = project_path.joinpath('run')\n",
    "# main_path = project_path.joinpath('main')"
   ]
  },
  {
   "cell_type": "code",
   "execution_count": 1,
   "metadata": {},
   "outputs": [],
   "source": [
    "# run(f\"jupyter nbconvert --to=python --output-dir={run_path} {main_path.joinpath('extract_unidimensional_experiment_20220324_173145.ipynb')}\", shell=True)\n",
    "# run(f\"jupyter nbconvert --to=python --output-dir={run_path} {main_path.joinpath('extract_categorical_experiment_20220324_173145.ipynb')}\", shell=True)\n",
    "# run(f\"jupyter nbconvert --to=python --output-dir={run_path} {main_path.joinpath('combine_experiment.ipynb')}\", shell=True)\n",
    "# run(f\"jupyter nbconvert --to=python --output-dir={run_path} {main_path.joinpath('harmonize_experiment.ipynb')}\", shell=True)\n",
    "# run(f\"jupyter nbconvert --to=python --output-dir={run_path} {main_path.joinpath('vector_transform_experiment.ipynb')}\", shell=True)\n",
    "# run(f\"jupyter nbconvert --to=python --output-dir={run_path} {main_path.joinpath('vector_transform_experiment_wp1.ipynb')}\", shell=True)\n",
    "# run(f\"jupyter nbconvert --to=python --output-dir={run_path} {main_path.joinpath('vector_transform_experiment_wp2.ipynb')}\", shell=True)"
   ]
  },
  {
   "cell_type": "code",
   "execution_count": 3,
   "metadata": {},
   "outputs": [],
   "source": [
    "# # log.info('Run extract_unidimensional_experiment_20220324_173145.py')\n",
    "# # run(f\"python {run_path}/extract_unidimensional_experiment_20220324_173145.py', shell=True)\n",
    "\n",
    "# # log.info('Run extract_categorical_experiment_20220324_173145.py')\n",
    "# # run(f\"python {run_path}/extract_categorical_experiment_20220324_173145.py', shell=True)\n",
    "\n",
    "# log.info('Run combine_experiment.py')\n",
    "# run(f\"python {run_path.joinpath('combine_experiment.py')}\", shell=True)\n",
    "\n",
    "# log.info('Run harmonize_experiment.py')\n",
    "# run(f\"python {run_path.joinpath('harmonize_experiment.py')}\", shell=True)\n",
    "\n",
    "# log.info('Run vector_transform_experiment.py')\n",
    "# run(f\"python {run_path.joinpath('vector_transform_experiment.py')}\", shell=True)\n",
    "\n",
    "# log.info('Run vector_transform_experiment.py')\n",
    "# run(f\"python {run_path.joinpath('vector_transform_experiment_wp1.py')}\", shell=True)\n",
    "\n",
    "# log.info('Run vector_transform_experiment.py')\n",
    "# run(f\"python {run_path.joinpath('vector_transform_experiment_wp_2.py')}\", shell=True)"
   ]
  },
  {
   "cell_type": "code",
   "execution_count": null,
   "metadata": {},
   "outputs": [],
   "source": []
  }
 ],
 "metadata": {
  "kernelspec": {
   "display_name": "development",
   "language": "python",
   "name": "python3"
  },
  "language_info": {
   "codemirror_mode": {
    "name": "ipython",
    "version": 3
   },
   "file_extension": ".py",
   "mimetype": "text/x-python",
   "name": "python",
   "nbconvert_exporter": "python",
   "pygments_lexer": "ipython3",
   "version": "3.9.10"
  },
  "orig_nbformat": 4,
  "vscode": {
   "interpreter": {
    "hash": "a2d6514f9963693ddf9848f840dcbc46c3e7b9abcac09ab97b6beeb9a964f0bf"
   }
  }
 },
 "nbformat": 4,
 "nbformat_minor": 2
}
