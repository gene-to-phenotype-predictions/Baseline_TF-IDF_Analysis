{
 "cells": [
  {
   "cell_type": "code",
   "execution_count": null,
   "metadata": {},
   "outputs": [],
   "source": [
    "import os as os\n",
    "import sys as sys\n",
    "import re as re\n",
    "import pandas as pd\n",
    "import numpy as np\n",
    "import json as json\n",
    "import pickle\n",
    "import pathlib\n",
    "from Bio import SeqIO\n",
    "\n",
    "pd.options.display.max_columns = 100\n",
    "pd.options.display.min_rows = None\n",
    "pd.options.display.max_rows = 20\n",
    "pd.options.display.max_colwidth = 100\n",
    "\n",
    "from config import MATERIALS_PATH, RESULTS_PATH\n",
    "\n",
    "FEATURE_PATH = MATERIALS_PATH.joinpath('mart_export.txt')\n",
    "\n",
    "UNSPLICED_PATH = MATERIALS_PATH.joinpath('martquery_0219183013_823.txt')\n",
    "UNSPLICED_RESULT_PATH = MATERIALS_PATH.joinpath('gene_symbol_dna_sequence_unspliced.pkl')\n",
    "\n",
    "EXON_PATH = MATERIALS_PATH.joinpath('martquery_0225145730_334.txt')\n",
    "EXON_RESULT_PATH = MATERIALS_PATH.joinpath('gene_symbol_dna_sequence_exon.pkl')\n",
    "\n",
    "GENE_SYMBOL_GENE_NAME_PATH =  MATERIALS_PATH.joinpath('gene_synonym_gene_name.pkl')\n",
    "\n",
    "PROTEIN_FASTA_PATH = MATERIALS_PATH.joinpath('uniprot-compressed_true_download_true_format_fasta_includeIsoform_tr-2023.02.17-22.00.02.49.fasta')\n",
    "PROTEIN_RESULT_PATH = MATERIALS_PATH.joinpath('gene_symbol_protein_sequences.pkl')"
   ]
  },
  {
   "cell_type": "code",
   "execution_count": null,
   "metadata": {},
   "outputs": [],
   "source": [
    "df = pd.read_csv(FEATURE_PATH, sep='\\t')\n",
    "\n",
    "df = df[['Gene stable ID', 'Gene name']]\n",
    "\n",
    "df = df.drop_duplicates()\n",
    "\n",
    "_df_features = df.copy()\n",
    "\n",
    "df"
   ]
  },
  {
   "cell_type": "code",
   "execution_count": null,
   "metadata": {},
   "outputs": [],
   "source": [
    "records = []\n",
    "for datum in SeqIO.parse(UNSPLICED_PATH, \"fasta\"):\n",
    "    record = {}\n",
    "    record['Gene stable ID'] = datum.description\n",
    "    record['Sequence'] = str(datum.seq)\n",
    "    records.append(record)\n",
    "\n",
    "df = pd.DataFrame(records)\n",
    "\n",
    "df = _df_features.merge(df, how='outer')\n",
    "\n",
    "assert not df['Gene stable ID'].duplicated().any()\n",
    "\n",
    "df.to_pickle(UNSPLICED_RESULT_PATH)\n",
    "\n",
    "_df_unspliced = df.copy()"
   ]
  },
  {
   "cell_type": "code",
   "execution_count": null,
   "metadata": {},
   "outputs": [],
   "source": [
    "_df_unspliced = pd.read_pickle(UNSPLICED_RESULT_PATH)\n",
    "\n",
    "_df_unspliced"
   ]
  },
  {
   "cell_type": "code",
   "execution_count": null,
   "metadata": {},
   "outputs": [],
   "source": [
    "_df_unspliced['Sequence'].str.len().max()"
   ]
  },
  {
   "cell_type": "code",
   "execution_count": null,
   "metadata": {},
   "outputs": [],
   "source": [
    "records = []\n",
    "for datum in SeqIO.parse(EXON_PATH, \"fasta\"):\n",
    "    parts = datum.id.split('|')\n",
    "    assert len(parts) == 2\n",
    "    parts.append(str(datum.seq))\n",
    "    records.append(parts)\n",
    "\n",
    "df = pd.DataFrame(records, columns=['Gene stable ID', 'Exon stable ID', 'Sequence'])\n",
    "\n",
    "df = _df_features.merge(df, how='outer')\n",
    "\n",
    "assert not df['Exon stable ID'].duplicated().any()\n",
    "\n",
    "df.to_pickle(EXON_RESULT_PATH)\n",
    "\n",
    "_df_exon = df.copy()"
   ]
  },
  {
   "cell_type": "code",
   "execution_count": null,
   "metadata": {},
   "outputs": [],
   "source": [
    "_df_exon = pd.read_pickle(EXON_RESULT_PATH)\n",
    "\n",
    "_df_exon"
   ]
  },
  {
   "cell_type": "code",
   "execution_count": null,
   "metadata": {},
   "outputs": [],
   "source": [
    "df = pd.read_csv(FEATURE_PATH, sep='\\t')\n",
    "\n",
    "df = df.groupby(['Gene Synonym']).filter(lambda x: x['Gene name'].dropna().drop_duplicates().shape[0] == 1)\n",
    "\n",
    "df = df[['Gene Synonym', 'Gene name']]\n",
    "\n",
    "df = df.drop_duplicates()\n",
    "\n",
    "df = df.set_index(['Gene Synonym'])\n",
    "\n",
    "ds = df['Gene name']\n",
    "\n",
    "gene_synonym_gene_name = ds.to_dict()\n",
    "\n",
    "with open(GENE_SYMBOL_GENE_NAME_PATH, 'wb') as f:\n",
    "    pickle.dump(gene_synonym_gene_name, f, protocol=pickle.HIGHEST_PROTOCOL)"
   ]
  },
  {
   "cell_type": "code",
   "execution_count": null,
   "metadata": {},
   "outputs": [],
   "source": [
    "records = []\n",
    "for data in SeqIO.parse(PROTEIN_FASTA_PATH, \"fasta\"):\n",
    "    record={}\n",
    "    for index, value in enumerate(re.findall(r'(?:(?<=^)[^|]+|(?<=\\|)[^| ]+|(?<=\\|)[^ ]+)|(?<=\\ ).+?(?= \\w\\w\\=|$)', data.description)):\n",
    "        value = value.strip()\n",
    "        if index == 0:\n",
    "            record['db'] = value\n",
    "        elif index == 1:\n",
    "            record['UniqueIdentifier'] = value\n",
    "        elif index == 2:\n",
    "            record['EntryName'] = value\n",
    "        elif index == 3:\n",
    "            record['ProteinName'] = value\n",
    "        else:\n",
    "            k, v = re.split(r'\\=', value)\n",
    "            record[k] = v\n",
    "\n",
    "    record['seq'] = str(data.seq)\n",
    "    \n",
    "    records.append(record)"
   ]
  },
  {
   "cell_type": "code",
   "execution_count": null,
   "metadata": {},
   "outputs": [],
   "source": [
    "df = pd.DataFrame(records)\n",
    "\n",
    "df['gene_symbol_harmonized'] = df['GN'].apply(lambda x: gene_synonym_gene_name.get(x, x))\n",
    "\n",
    "df = df.set_index('gene_symbol_harmonized').reset_index()\n",
    "\n",
    "df = df[['gene_symbol_harmonized', 'db', 'UniqueIdentifier', 'EntryName', 'ProteinName', 'OS', 'OX', 'GN', 'PE', 'SV', 'seq']]\n",
    "\n",
    "assert not df['UniqueIdentifier'].duplicated().any()\n",
    "\n",
    "df.to_pickle(PROTEIN_RESULT_PATH)\n",
    "\n",
    "_df_protein_sequence = df.copy()"
   ]
  }
 ],
 "metadata": {
  "kernelspec": {
   "display_name": "py39",
   "language": "python",
   "name": "python3"
  },
  "language_info": {
   "codemirror_mode": {
    "name": "ipython",
    "version": 3
   },
   "file_extension": ".py",
   "mimetype": "text/x-python",
   "name": "python",
   "nbconvert_exporter": "python",
   "pygments_lexer": "ipython3",
   "version": "3.9.16"
  },
  "orig_nbformat": 4,
  "vscode": {
   "interpreter": {
    "hash": "0f5a67c8f338a2aa83971d908da2f9f4f3ea4b50553efdb05feea12445a21cfa"
   }
  }
 },
 "nbformat": 4,
 "nbformat_minor": 2
}
