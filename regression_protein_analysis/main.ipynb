{
 "cells": [
  {
   "cell_type": "code",
   "execution_count": 1,
   "metadata": {},
   "outputs": [],
   "source": [
    "import os as os\n",
    "import sys as sys\n",
    "import re as re\n",
    "import pandas as pd\n",
    "import numpy as np\n",
    "import json as json\n",
    "import pickle\n",
    "import urllib as urllib\n",
    "import zlib as zlib\n",
    "import base64 as base64\n",
    "from requests import Request, Session\n",
    "import requests\n",
    "from numpy import trapz\n",
    "import itertools\n",
    "import zlib as zlib\n",
    "import base64 as base64\n",
    "import pickle\n",
    "import pathlib\n",
    "from tqdm import tqdm\n",
    "from datetime import datetime\n",
    "import time\n",
    "import copy\n",
    "import nltk\n",
    "from sklearn.feature_extraction.text import TfidfVectorizer, CountVectorizer\n",
    "from sklearn.linear_model import LinearRegression\n",
    "from sklearn.model_selection import train_test_split\n",
    "from sklearn.neighbors import KNeighborsRegressor\n",
    "\n",
    "pd.options.display.max_columns = 100\n",
    "pd.options.display.min_rows = None\n",
    "pd.options.display.max_rows = 20\n",
    "pd.options.display.max_colwidth = 100\n",
    "\n",
    "DATA_PATH = pathlib.Path('/data1/home/adpatter/gene-to-phenotype-predictions/adpatter/data/')\n",
    "EFFECT_SIZE_PATH = DATA_PATH.joinpath('capstone_body_weight_Statistical_effect_size_analysis_genotype_early_adult_scaled_13022023_gene_symbol_harmonized.pkl')\n",
    "PROTEIN_SEQ_PATH = DATA_PATH.joinpath('gene_symbol_protein_sequences.pkl')\n",
    "EXON_PATH = DATA_PATH.joinpath('gene_symbol_dna_sequence_exon.pkl')\n",
    "UNSPLICED_PATH = DATA_PATH.joinpath('gene_symbol_dna_sequence_unspliced.pkl')"
   ]
  },
  {
   "cell_type": "code",
   "execution_count": 2,
   "metadata": {},
   "outputs": [],
   "source": [
    "df = pd.read_pickle(EFFECT_SIZE_PATH)\n",
    "\n",
    "df = df.groupby(['gene_symbol_harmonized'], group_keys=False).apply(lambda x: x.loc[x['est_m_ea'] == x['est_m_ea'].max()])\n",
    "\n",
    "assert not df['gene_symbol_harmonized'].duplicated().any()\n",
    "\n",
    "df_effect_size = df.copy()"
   ]
  },
  {
   "cell_type": "code",
   "execution_count": 12,
   "metadata": {},
   "outputs": [
    {
     "name": "stdout",
     "output_type": "stream",
     "text": [
      "(23260, 3)\n"
     ]
    }
   ],
   "source": [
    "df = pd.read_pickle(PROTEIN_SEQ_PATH)\n",
    "\n",
    "df = df[['gene_symbol_harmonized', 'seq']]\n",
    "\n",
    "df = df.drop_duplicates()\n",
    "\n",
    "df = df_effect_size.merge(df, how='inner', on='gene_symbol_harmonized')\n",
    "\n",
    "df = df[['gene_symbol_harmonized', 'est_m_ea', 'seq']]\n",
    "\n",
    "print(df.shape)\n",
    "\n",
    "assert not df[['gene_symbol_harmonized', 'seq']].duplicated().any()\n",
    "\n",
    "df.to_pickle(DATA_PATH.joinpath('protein_effect_size_analysis.pkl'))\n",
    "\n",
    "df_protein_seq_effect_size = df.copy()"
   ]
  },
  {
   "cell_type": "code",
   "execution_count": 10,
   "metadata": {},
   "outputs": [],
   "source": [
    "df = df_protein_seq_effect_size.copy()\n",
    "\n",
    "train_genes = df['gene_symbol_harmonized'].drop_duplicates().sample(frac=.8)\n",
    "\n",
    "df_train = df.loc[df['gene_symbol_harmonized'].isin(train_genes)]\n",
    "df_test = df.loc[~df['gene_symbol_harmonized'].isin(train_genes)]\n",
    "\n",
    "vectorizer = CountVectorizer(analyzer='char', ngram_range=(41,41))\n",
    "\n",
    "X_train = vectorizer.fit_transform(df_train['seq'].tolist())\n",
    "y_train = df_train['est_m_ea'].tolist()\n",
    "\n",
    "X_test = vectorizer.transform(df_test['seq'].tolist())\n",
    "y_test = df_test['est_m_ea'].tolist()"
   ]
  },
  {
   "cell_type": "code",
   "execution_count": 5,
   "metadata": {},
   "outputs": [
    {
     "data": {
      "text/plain": [
       "-0.011148760606491726"
      ]
     },
     "execution_count": 5,
     "metadata": {},
     "output_type": "execute_result"
    }
   ],
   "source": [
    "reg = LinearRegression().fit(X_train, y_train)\n",
    "\n",
    "reg.score(X_test, y_test)"
   ]
  },
  {
   "cell_type": "code",
   "execution_count": 11,
   "metadata": {},
   "outputs": [
    {
     "data": {
      "text/plain": [
       "-0.0429357650205211"
      ]
     },
     "execution_count": 11,
     "metadata": {},
     "output_type": "execute_result"
    }
   ],
   "source": [
    "reg = KNeighborsRegressor().fit(X_train, y_train)\n",
    "\n",
    "reg.score(X_test, y_test)"
   ]
  },
  {
   "cell_type": "code",
   "execution_count": 7,
   "metadata": {},
   "outputs": [
    {
     "name": "stdout",
     "output_type": "stream",
     "text": [
      "(588, 3)\n"
     ]
    },
    {
     "data": {
      "text/plain": [
       "-0.39686823117402836"
      ]
     },
     "execution_count": 7,
     "metadata": {},
     "output_type": "execute_result"
    }
   ],
   "source": [
    "df = pd.read_pickle(PROTEIN_SEQ_PATH)\n",
    "\n",
    "df = df.loc[df['motifs'].notna()]\n",
    "\n",
    "df = df[['gene_symbol_harmonized', 'motifs']]\n",
    "\n",
    "df = df.drop_duplicates()\n",
    "\n",
    "df = df_effect_size.merge(df, how='inner', on='gene_symbol_harmonized')\n",
    "\n",
    "df = df[['gene_symbol_harmonized', 'est_m_ea', 'motifs']]\n",
    "\n",
    "print(df.shape)\n",
    "\n",
    "assert not df[['gene_symbol_harmonized', 'motifs']].duplicated().any()\n",
    "\n",
    "train_genes = df['gene_symbol_harmonized'].drop_duplicates().sample(frac=.8)\n",
    "\n",
    "df_train = df.loc[df['gene_symbol_harmonized'].isin(train_genes)]\n",
    "df_test = df.loc[~df['gene_symbol_harmonized'].isin(train_genes)]\n",
    "\n",
    "vectorizer = TfidfVectorizer(analyzer='word', ngram_range=(1,1))\n",
    "\n",
    "X_train = vectorizer.fit_transform(df_train['motifs'].tolist())\n",
    "y_train = df_train['est_m_ea'].tolist()\n",
    "\n",
    "X_test = vectorizer.transform(df_test['motifs'].tolist())\n",
    "y_test = df_test['est_m_ea'].tolist()\n",
    "\n",
    "reg = LinearRegression().fit(X_train, y_train)\n",
    "\n",
    "reg.score(X_test, y_test)"
   ]
  },
  {
   "cell_type": "code",
   "execution_count": 8,
   "metadata": {},
   "outputs": [],
   "source": [
    "# import sys\n",
    "# import pathlib\n",
    "# from subprocess import run\n",
    "\n",
    "# project_path = pathlib.Path('/data1/home/adpatter/mouse-aging-deep-phenotyping/adpatter').resolve()\n",
    "\n",
    "# if project_path.as_posix() not in sys.path: sys.path.append(project_path.as_posix())\n",
    "# from utils.logger import logger as log\n",
    "\n",
    "# project_path = pathlib.Path('/data1/home/adpatter/mouse-aging-deep-phenotyping/adpatter')\n",
    "# run_path = project_path.joinpath('run')\n",
    "# main_path = project_path.joinpath('main')"
   ]
  },
  {
   "cell_type": "code",
   "execution_count": 9,
   "metadata": {},
   "outputs": [],
   "source": [
    "# run(f\"jupyter nbconvert --to=python --output-dir={run_path} {main_path.joinpath('extract_unidimensional_experiment_20220324_173145.ipynb')}\", shell=True)\n",
    "# run(f\"jupyter nbconvert --to=python --output-dir={run_path} {main_path.joinpath('extract_categorical_experiment_20220324_173145.ipynb')}\", shell=True)\n",
    "# run(f\"jupyter nbconvert --to=python --output-dir={run_path} {main_path.joinpath('combine_experiment.ipynb')}\", shell=True)\n",
    "# run(f\"jupyter nbconvert --to=python --output-dir={run_path} {main_path.joinpath('harmonize_experiment.ipynb')}\", shell=True)\n",
    "# run(f\"jupyter nbconvert --to=python --output-dir={run_path} {main_path.joinpath('vector_transform_experiment.ipynb')}\", shell=True)\n",
    "# run(f\"jupyter nbconvert --to=python --output-dir={run_path} {main_path.joinpath('vector_transform_experiment_wp1.ipynb')}\", shell=True)\n",
    "# run(f\"jupyter nbconvert --to=python --output-dir={run_path} {main_path.joinpath('vector_transform_experiment_wp2.ipynb')}\", shell=True)"
   ]
  },
  {
   "cell_type": "code",
   "execution_count": 10,
   "metadata": {},
   "outputs": [],
   "source": [
    "# # log.info('Run extract_unidimensional_experiment_20220324_173145.py')\n",
    "# # run(f\"python {run_path}/extract_unidimensional_experiment_20220324_173145.py', shell=True)\n",
    "\n",
    "# # log.info('Run extract_categorical_experiment_20220324_173145.py')\n",
    "# # run(f\"python {run_path}/extract_categorical_experiment_20220324_173145.py', shell=True)\n",
    "\n",
    "# log.info('Run combine_experiment.py')\n",
    "# run(f\"python {run_path.joinpath('combine_experiment.py')}\", shell=True)\n",
    "\n",
    "# log.info('Run harmonize_experiment.py')\n",
    "# run(f\"python {run_path.joinpath('harmonize_experiment.py')}\", shell=True)\n",
    "\n",
    "# log.info('Run vector_transform_experiment.py')\n",
    "# run(f\"python {run_path.joinpath('vector_transform_experiment.py')}\", shell=True)\n",
    "\n",
    "# log.info('Run vector_transform_experiment.py')\n",
    "# run(f\"python {run_path.joinpath('vector_transform_experiment_wp1.py')}\", shell=True)\n",
    "\n",
    "# log.info('Run vector_transform_experiment.py')\n",
    "# run(f\"python {run_path.joinpath('vector_transform_experiment_wp_2.py')}\", shell=True)"
   ]
  },
  {
   "cell_type": "code",
   "execution_count": null,
   "metadata": {},
   "outputs": [],
   "source": []
  }
 ],
 "metadata": {
  "kernelspec": {
   "display_name": "Development",
   "language": "python",
   "name": "development"
  },
  "language_info": {
   "codemirror_mode": {
    "name": "ipython",
    "version": 3
   },
   "file_extension": ".py",
   "mimetype": "text/x-python",
   "name": "python",
   "nbconvert_exporter": "python",
   "pygments_lexer": "ipython3",
   "version": "3.9.10 | packaged by conda-forge | (main, Feb  1 2022, 21:24:37) \n[GCC 9.4.0]"
  },
  "orig_nbformat": 4,
  "vscode": {
   "interpreter": {
    "hash": "a2d6514f9963693ddf9848f840dcbc46c3e7b9abcac09ab97b6beeb9a964f0bf"
   }
  }
 },
 "nbformat": 4,
 "nbformat_minor": 2
}
