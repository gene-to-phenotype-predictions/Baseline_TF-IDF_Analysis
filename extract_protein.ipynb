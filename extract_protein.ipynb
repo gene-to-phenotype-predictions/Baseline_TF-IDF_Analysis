{
 "cells": [
  {
   "cell_type": "code",
   "execution_count": 1,
   "metadata": {},
   "outputs": [],
   "source": [
    "import os as os\n",
    "import sys as sys\n",
    "import re as re\n",
    "import pandas as pd\n",
    "import numpy as np\n",
    "import json as json\n",
    "import urllib as urllib\n",
    "import zlib as zlib\n",
    "import base64 as base64\n",
    "from requests import Request, Session\n",
    "from numpy import trapz\n",
    "import itertools\n",
    "import zlib as zlib\n",
    "import base64 as base64\n",
    "import pickle\n",
    "import pathlib\n",
    "import tqdm\n",
    "from datetime import datetime\n",
    "\n",
    "pd.options.display.max_columns = 100\n",
    "pd.options.display.min_rows = None\n",
    "pd.options.display.max_rows = 20\n",
    "pd.options.display.max_colwidth = 10000"
   ]
  },
  {
   "cell_type": "code",
   "execution_count": 2,
   "metadata": {},
   "outputs": [],
   "source": [
    "_df_gene = pd.read_pickle('gene.pkl')"
   ]
  },
  {
   "cell_type": "code",
   "execution_count": 4,
   "metadata": {},
   "outputs": [
    {
     "data": {
      "text/plain": [
       "Rnf10       2588\n",
       "Nxn         2524\n",
       "Dnase1l2    2502\n",
       "Prkab1      2494\n",
       "Dbn1        2413\n",
       "Ap4e1       2147\n",
       "Bbox1       1317\n",
       "Ppfibp2     1291\n",
       "Hsd17b4     1220\n",
       "Rab39b      1208\n",
       "            ... \n",
       "Drd3           1\n",
       "Cacna2d2       1\n",
       "Taar3          1\n",
       "Rit1           1\n",
       "Pnkp           1\n",
       "St8sia6        1\n",
       "Dhx8           1\n",
       "Amtn           1\n",
       "Plxnc1         1\n",
       "Chd5           1\n",
       "Name: gene_symbol, Length: 7499, dtype: int64"
      ]
     },
     "execution_count": 4,
     "metadata": {},
     "output_type": "execute_result"
    }
   ],
   "source": [
    "df = _df_gene.copy()\n",
    "\n",
    "df['gene_symbol'].value_counts()"
   ]
  },
  {
   "cell_type": "code",
   "execution_count": null,
   "metadata": {},
   "outputs": [],
   "source": []
  }
 ],
 "metadata": {
  "kernelspec": {
   "display_name": "development",
   "language": "python",
   "name": "python3"
  },
  "language_info": {
   "codemirror_mode": {
    "name": "ipython",
    "version": 3
   },
   "file_extension": ".py",
   "mimetype": "text/x-python",
   "name": "python",
   "nbconvert_exporter": "python",
   "pygments_lexer": "ipython3",
   "version": "3.9.10"
  },
  "orig_nbformat": 4,
  "vscode": {
   "interpreter": {
    "hash": "a2d6514f9963693ddf9848f840dcbc46c3e7b9abcac09ab97b6beeb9a964f0bf"
   }
  }
 },
 "nbformat": 4,
 "nbformat_minor": 2
}
