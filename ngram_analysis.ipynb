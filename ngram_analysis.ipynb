{
 "cells": [
  {
   "cell_type": "code",
   "execution_count": null,
   "metadata": {},
   "outputs": [],
   "source": [
    "import os as os\n",
    "import sys as sys\n",
    "import re as re\n",
    "import pandas as pd\n",
    "import numpy as np\n",
    "import json as json\n",
    "import pickle\n",
    "import pathlib\n",
    "from datetime import datetime\n",
    "import time\n",
    "import copy\n",
    "import nltk\n",
    "from sklearn.feature_extraction.text import CountVectorizer\n",
    "import seaborn as sns\n",
    "import matplotlib.pyplot as plt\n",
    "\n",
    "pd.options.display.max_columns = 100\n",
    "pd.options.display.min_rows = None\n",
    "pd.options.display.max_rows = 10\n",
    "pd.options.display.max_colwidth = 100\n",
    "\n",
    "from config import RANDOM_STATE, MATERIALS_PATH, RESULTS_PATH\n",
    "\n",
    "PROTEIN_SEQ_PATH = MATERIALS_PATH.joinpath('gene_symbol_protein_sequences.pkl')\n",
    "EXON_SEQ_PATH = MATERIALS_PATH.joinpath('gene_symbol_dna_sequence_unspliced.pkl')\n",
    "UNSPLICED_SEQ_PATH = MATERIALS_PATH.joinpath('gene_symbol_dna_sequence_exon.pkl')"
   ]
  },
  {
   "cell_type": "code",
   "execution_count": null,
   "metadata": {},
   "outputs": [],
   "source": [
    "def ngram_procedure(ds, step, n, frac, name):\n",
    "\n",
    "    ngram_count = {}\n",
    "\n",
    "    ds = ds.sample(frac=frac)\n",
    "\n",
    "    print(ds.shape)\n",
    "\n",
    "    corpus = ds.tolist()\n",
    "\n",
    "    while True:\n",
    "\n",
    "        vectorizer = CountVectorizer(analyzer='char', ngram_range=(n,n))\n",
    "\n",
    "        X = vectorizer.fit_transform(corpus)\n",
    "\n",
    "        count_vector = X.sum(axis=0)\n",
    "\n",
    "        is_ones = (count_vector == 1)\n",
    "\n",
    "        unique_count = is_ones.sum()\n",
    "\n",
    "        print(n, X.shape[1], unique_count, abs(X.shape[1] - unique_count))\n",
    "\n",
    "        ngram_count[n] = {'features': X.shape[1], 'unique_features': unique_count}\n",
    "\n",
    "        with open(MATERIALS_PATH.joinpath(f'{name}_{step}_{frac}.pkl'), 'wb') as f:\n",
    "            pickle.dump(ngram_count, f, protocol=pickle.HIGHEST_PROTOCOL)\n",
    "\n",
    "        if is_ones.all():\n",
    "            break\n",
    "\n",
    "        n = n + step"
   ]
  },
  {
   "cell_type": "code",
   "execution_count": null,
   "metadata": {},
   "outputs": [],
   "source": [
    "df = pd.read_pickle(PROTEIN_SEQ_PATH)\n",
    "\n",
    "ds = df['seq'].drop_duplicates()\n",
    "\n",
    "ngram_procedure(ds=ds, step=1, n=1, frac=.01, name='ngram_protein')"
   ]
  },
  {
   "cell_type": "code",
   "execution_count": null,
   "metadata": {},
   "outputs": [],
   "source": [
    "df = pd.read_pickle(EXON_SEQ_PATH)\n",
    "\n",
    "ds = df['Sequence'].drop_duplicates()\n",
    "\n",
    "ngram_procedure(ds=ds, step=1, n=1, frac=.01, name='ngram_exon')"
   ]
  },
  {
   "cell_type": "code",
   "execution_count": null,
   "metadata": {},
   "outputs": [],
   "source": [
    "df = pd.read_pickle(UNSPLICED_SEQ_PATH)\n",
    "\n",
    "ds = df['Sequence'].drop_duplicates()\n",
    "\n",
    "ngram_procedure(ds=ds, step=1, n=1, frac=.01, name='ngram_unspliced')"
   ]
  },
  {
   "cell_type": "code",
   "execution_count": null,
   "metadata": {},
   "outputs": [],
   "source": [
    "def transform_dict(path):\n",
    "\n",
    "    with open(path, 'rb') as f:\n",
    "        data = pickle.load(f)\n",
    "\n",
    "        df = pd.DataFrame(data).T\n",
    "\n",
    "        df = df.reset_index()\n",
    "\n",
    "        df = df.rename({'index': 'ngram'}, axis=1)\n",
    "\n",
    "        df['descriptive_features'] = df['features'] - df['unique_features']\n",
    "\n",
    "        df = df.rename({'ngram': 'N-Gram', 'features': 'Features', 'unique_features': 'Unique Features', 'descriptive_features': 'Descriptive Features'}, axis=1)\n",
    "\n",
    "        df = df.set_index(['N-Gram'])\n",
    "\n",
    "    return df.copy()"
   ]
  },
  {
   "cell_type": "code",
   "execution_count": null,
   "metadata": {},
   "outputs": [],
   "source": [
    "df_protein = transform_dict(MATERIALS_PATH.joinpath('ngram_protein_1_0.01.pkl'))\n",
    "df_exon = transform_dict(MATERIALS_PATH.joinpath('ngram_exon_1_0.01.pkl'))\n",
    "df_unspliced = transform_dict(MATERIALS_PATH.joinpath('ngram_unspliced_1_0.01.pkl'))"
   ]
  },
  {
   "cell_type": "code",
   "execution_count": null,
   "metadata": {},
   "outputs": [],
   "source": [
    "sns.set_style('whitegrid')\n",
    "\n",
    "fig, (ax1, ax2, ax3) = plt.subplots(1,3)\n",
    "\n",
    "fig.suptitle('N-Gram Analysis', fontsize='xx-large')\n",
    "fig.set_size_inches((20,5))\n",
    "fig.subplots_adjust(top=.85)\n",
    "\n",
    "ax1.set_xlim(0, 10)\n",
    "ax1.xaxis.set_ticks(range(0, 11, 1))\n",
    "ax1.ticklabel_format(style='sci', axis='y', scilimits=(0,0))\n",
    "ax1.set_title('Protein Features')\n",
    "\n",
    "ax2.set_xlim(0, 20)\n",
    "ax2.xaxis.set_ticks(range(0, 21, 2))\n",
    "ax2.ticklabel_format(style='sci', axis='y', scilimits=(0,0))\n",
    "ax2.set_title('Exon Features')\n",
    "\n",
    "ax3.set_xlim(0, 20)\n",
    "ax3.xaxis.set_ticks(range(0, 21, 2))\n",
    "ax3.ticklabel_format(style='sci', axis='y', scilimits=(0,0))\n",
    "ax3.set_title('Unspliced Features')\n",
    "\n",
    "_ = sns.lineplot(data=df_protein[['Features', 'Unique Features', 'Descriptive Features']], ax=ax1)\n",
    "_= ax1.legend(loc='upper left')\n",
    "\n",
    "\n",
    "_ = sns.lineplot(data=df_exon[['Features', 'Unique Features', 'Descriptive Features']], ax=ax2)\n",
    "_ = ax2.legend(loc='upper left')\n",
    "\n",
    "_ = sns.lineplot(data=df_unspliced[['Features', 'Unique Features', 'Descriptive Features']], ax=ax3)\n",
    "_ = ax3.legend(loc='upper left')\n",
    "\n",
    "plt.savefig(RESULTS_PATH.joinpath(f'ngram_analysis.png'), bbox_inches='tight')"
   ]
  },
  {
   "cell_type": "code",
   "execution_count": null,
   "metadata": {},
   "outputs": [],
   "source": []
  }
 ],
 "metadata": {
  "kernelspec": {
   "display_name": "py39",
   "language": "python",
   "name": "python3"
  },
  "language_info": {
   "codemirror_mode": {
    "name": "ipython",
    "version": 3
   },
   "file_extension": ".py",
   "mimetype": "text/x-python",
   "name": "python",
   "nbconvert_exporter": "python",
   "pygments_lexer": "ipython3",
   "version": "3.9.16"
  },
  "orig_nbformat": 4,
  "vscode": {
   "interpreter": {
    "hash": "0f5a67c8f338a2aa83971d908da2f9f4f3ea4b50553efdb05feea12445a21cfa"
   }
  }
 },
 "nbformat": 4,
 "nbformat_minor": 2
}
