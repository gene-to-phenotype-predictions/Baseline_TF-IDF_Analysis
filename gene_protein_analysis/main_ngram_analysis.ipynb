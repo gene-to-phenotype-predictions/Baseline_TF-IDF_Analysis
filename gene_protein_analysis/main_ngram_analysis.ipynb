{
 "cells": [
  {
   "cell_type": "code",
   "execution_count": null,
   "metadata": {},
   "outputs": [],
   "source": [
    "import os as os\n",
    "import sys as sys\n",
    "import re as re\n",
    "import pandas as pd\n",
    "import numpy as np\n",
    "import json as json\n",
    "import pickle\n",
    "import urllib as urllib\n",
    "import zlib as zlib\n",
    "import base64 as base64\n",
    "from requests import Request, Session\n",
    "import requests\n",
    "from numpy import trapz\n",
    "import itertools\n",
    "import zlib as zlib\n",
    "import base64 as base64\n",
    "import pickle\n",
    "import pathlib\n",
    "from tqdm import tqdm\n",
    "from datetime import datetime\n",
    "import time\n",
    "import copy\n",
    "import nltk\n",
    "from sklearn.feature_extraction.text import TfidfVectorizer, CountVectorizer\n",
    "from sklearn.linear_model import LinearRegression\n",
    "from sklearn.model_selection import train_test_split\n",
    "from sklearn.manifold import MDS, TSNE\n",
    "from sklearn.decomposition import PCA\n",
    "import seaborn as sns\n",
    "import matplotlib.pyplot as plt\n",
    "\n",
    "\n",
    "pd.options.display.max_columns = 100\n",
    "pd.options.display.min_rows = None\n",
    "pd.options.display.max_rows = 10\n",
    "pd.options.display.max_colwidth = 100\n",
    "\n",
    "DATA_PATH = pathlib.Path('/data1/home/adpatter/gene-to-phenotype-predictions/adpatter/data/')\n",
    "PROTEIN_SEQUENCE_PATH = DATA_PATH.joinpath('protein_sequences_effect_size_sample.pkl')"
   ]
  },
  {
   "cell_type": "code",
   "execution_count": null,
   "metadata": {},
   "outputs": [],
   "source": [
    "df = pd.read_pickle(PROTEIN_SEQUENCE_PATH)\n",
    "\n",
    "df_data = df.copy()"
   ]
  },
  {
   "cell_type": "code",
   "execution_count": null,
   "metadata": {},
   "outputs": [],
   "source": [
    "df = df_data.copy()\n",
    "\n",
    "print(df.shape)\n",
    "\n",
    "ds = df['seq'].drop_duplicates()\n",
    "\n",
    "print(ds.shape)\n",
    "\n",
    "corpus = ds.tolist()\n",
    "\n",
    "ngram_count = {}\n",
    "step = 1\n",
    "n = 1\n",
    "while True:\n",
    "\n",
    "    vectorizer = CountVectorizer(analyzer='char', ngram_range=(n,n))\n",
    "\n",
    "    X = vectorizer.fit_transform(corpus)\n",
    "\n",
    "    count_vector = X.sum(axis=0)\n",
    "\n",
    "    is_ones = (count_vector == 1)\n",
    "\n",
    "    unique_count = is_ones.sum()\n",
    "\n",
    "    print(n, X.shape[1], unique_count, abs(X.shape[1] - unique_count))\n",
    "\n",
    "    ngram_count[n] = {'features': X.shape[1], 'unique_features': unique_count}\n",
    "\n",
    "    with open(f'ngram_protein_{step}.pkl', 'wb') as f:\n",
    "        pickle.dump(ngram_count, f, protocol=pickle.HIGHEST_PROTOCOL)\n",
    "\n",
    "    if is_ones.all():\n",
    "        break\n",
    "\n",
    "    n = n + step"
   ]
  }
 ],
 "metadata": {
  "kernelspec": {
   "display_name": "development",
   "language": "python",
   "name": "python3"
  },
  "language_info": {
   "codemirror_mode": {
    "name": "ipython",
    "version": 3
   },
   "file_extension": ".py",
   "mimetype": "text/x-python",
   "name": "python",
   "nbconvert_exporter": "python",
   "pygments_lexer": "ipython3",
   "version": "3.9.10"
  },
  "orig_nbformat": 4,
  "vscode": {
   "interpreter": {
    "hash": "a2d6514f9963693ddf9848f840dcbc46c3e7b9abcac09ab97b6beeb9a964f0bf"
   }
  }
 },
 "nbformat": 4,
 "nbformat_minor": 2
}
