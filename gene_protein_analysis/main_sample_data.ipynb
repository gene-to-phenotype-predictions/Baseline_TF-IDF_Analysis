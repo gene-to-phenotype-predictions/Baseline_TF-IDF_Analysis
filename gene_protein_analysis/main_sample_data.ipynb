{
 "cells": [
  {
   "cell_type": "code",
   "execution_count": 1,
   "metadata": {},
   "outputs": [],
   "source": [
    "import os as os\n",
    "import sys as sys\n",
    "import re as re\n",
    "import pandas as pd\n",
    "import numpy as np\n",
    "import json as json\n",
    "import pickle\n",
    "import urllib as urllib\n",
    "import zlib as zlib\n",
    "import base64 as base64\n",
    "from requests import Request, Session\n",
    "import requests\n",
    "from numpy import trapz\n",
    "import itertools\n",
    "import zlib as zlib\n",
    "import base64 as base64\n",
    "import pickle\n",
    "import pathlib\n",
    "from tqdm import tqdm\n",
    "from datetime import datetime\n",
    "import time\n",
    "import copy\n",
    "from Bio import SeqIO\n",
    "from sklearn.pipeline import Pipeline\n",
    "from sklearn.model_selection import GridSearchCV\n",
    "from sklearn.linear_model import LogisticRegression\n",
    "from sklearn.feature_extraction.text import TfidfVectorizer\n",
    "from sklearn.model_selection import train_test_split\n",
    "from sklearn.linear_model import LinearRegression\n",
    "from sklearn.linear_model import Lasso\n",
    "from sklearn.dummy import DummyClassifier\n",
    "\n",
    "pd.options.display.max_columns = 100\n",
    "pd.options.display.min_rows = None\n",
    "pd.options.display.max_rows = 20\n",
    "pd.options.display.max_colwidth = 100\n",
    "\n",
    "DATA_PATH = pathlib.Path('/data1/home/adpatter/gene-to-phenotype-predictions/adpatter/data/')\n",
    "PROTEIN_PATH = DATA_PATH.joinpath('gene_symbol_protein_sequences.pkl')\n",
    "EFFECT_SIZE_PATH = DATA_PATH.joinpath('capstone_body_weight_Statistical_effect_size_analysis_genotype_early_adult_scaled_13022023_gene_symbol_harmonized.pkl')"
   ]
  },
  {
   "cell_type": "code",
   "execution_count": 2,
   "metadata": {},
   "outputs": [],
   "source": [
    "df_protein = pd.read_pickle(PROTEIN_PATH)\n",
    "df_effect_size = pd.read_pickle(EFFECT_SIZE_PATH)"
   ]
  },
  {
   "cell_type": "code",
   "execution_count": 3,
   "metadata": {},
   "outputs": [],
   "source": [
    "df = df_effect_size.copy()\n",
    "\n",
    "df = df.groupby(['gene_symbol_harmonized'], group_keys=False).apply(lambda x: x.loc[x['est_m_ea'] == x['est_m_ea'].max()])\n",
    "\n",
    "assert not df['gene_symbol_harmonized'].duplicated().any()\n",
    "\n",
    "df_effect_size = df.copy()"
   ]
  },
  {
   "cell_type": "code",
   "execution_count": 4,
   "metadata": {},
   "outputs": [],
   "source": [
    "df = df_protein.copy()\n",
    "\n",
    "df = df[['gene_symbol_harmonized', 'seq']].drop_duplicates()\n",
    "\n",
    "df = df.groupby(['gene_symbol_harmonized'], group_keys=False).apply(lambda x: x.loc[x['seq'].str.len() == x['seq'].str.len().max()].sample(n=1))\n",
    "\n",
    "assert not df['gene_symbol_harmonized'].duplicated().any()\n",
    "\n",
    "df_protein_max_seq = df.copy()"
   ]
  },
  {
   "cell_type": "code",
   "execution_count": 6,
   "metadata": {},
   "outputs": [],
   "source": [
    "df = df_protein_max_seq.copy()\n",
    "\n",
    "df = df.merge(df_effect_size, on='gene_symbol_harmonized', how='inner')\n",
    "\n",
    "df = df[['gene_symbol_harmonized', 'est_m_ea', 'seq']]\n",
    "\n",
    "assert not df['gene_symbol_harmonized'].duplicated().any()\n",
    "\n",
    "assert not df.isna().any().any()\n",
    "\n",
    "df.to_pickle(DATA_PATH.joinpath('protein_sequences_effect_size_sample.pkl'))"
   ]
  }
 ],
 "metadata": {
  "kernelspec": {
   "display_name": "development",
   "language": "python",
   "name": "python3"
  },
  "language_info": {
   "codemirror_mode": {
    "name": "ipython",
    "version": 3
   },
   "file_extension": ".py",
   "mimetype": "text/x-python",
   "name": "python",
   "nbconvert_exporter": "python",
   "pygments_lexer": "ipython3",
   "version": "3.9.10"
  },
  "orig_nbformat": 4,
  "vscode": {
   "interpreter": {
    "hash": "a2d6514f9963693ddf9848f840dcbc46c3e7b9abcac09ab97b6beeb9a964f0bf"
   }
  }
 },
 "nbformat": 4,
 "nbformat_minor": 2
}
