{
 "cells": [
  {
   "cell_type": "code",
   "execution_count": 1,
   "metadata": {},
   "outputs": [],
   "source": [
    "import os as os\n",
    "import sys as sys\n",
    "import re as re\n",
    "import pandas as pd\n",
    "import numpy as np\n",
    "import json as json\n",
    "import pickle\n",
    "import urllib as urllib\n",
    "import zlib as zlib\n",
    "import base64 as base64\n",
    "from requests import Request, Session\n",
    "import requests\n",
    "from numpy import trapz\n",
    "import itertools\n",
    "import zlib as zlib\n",
    "import base64 as base64\n",
    "import pickle\n",
    "import pathlib\n",
    "from tqdm import tqdm\n",
    "from datetime import datetime\n",
    "import time\n",
    "import copy\n",
    "from Bio import SeqIO\n",
    "\n",
    "pd.options.display.max_columns = 100\n",
    "pd.options.display.min_rows = None\n",
    "pd.options.display.max_rows = 20\n",
    "pd.options.display.max_colwidth = 100\n",
    "\n",
    "DATA_PATH = pathlib.Path('/data1/home/adpatter/gene-to-phenotype-predictions/adpatter/data/')\n",
    "DNA_PATH = DATA_PATH.joinpath('gene_symbol_dna_sequence.pkl')\n",
    "PROTEIN_PATH = DATA_PATH.joinpath('gene_symbol_protein_sequences.pkl')\n",
    "EFFECT_SIZE_PATH = DATA_PATH.joinpath('capstone_body_weight_Statistical_effect_size_analysis_genotype_early_adult_scaled_13022023_gene_symbol_harmonized.pkl')"
   ]
  },
  {
   "cell_type": "code",
   "execution_count": 2,
   "metadata": {},
   "outputs": [],
   "source": [
    "df_dna = pd.read_pickle(DNA_PATH)\n",
    "df_protein = pd.read_pickle(PROTEIN_PATH)\n",
    "df_effect_size = pd.read_pickle(EFFECT_SIZE_PATH)"
   ]
  },
  {
   "cell_type": "code",
   "execution_count": 3,
   "metadata": {},
   "outputs": [
    {
     "data": {
      "text/html": [
       "<div>\n",
       "<style scoped>\n",
       "    .dataframe tbody tr th:only-of-type {\n",
       "        vertical-align: middle;\n",
       "    }\n",
       "\n",
       "    .dataframe tbody tr th {\n",
       "        vertical-align: top;\n",
       "    }\n",
       "\n",
       "    .dataframe thead th {\n",
       "        text-align: right;\n",
       "    }\n",
       "</style>\n",
       "<table border=\"1\" class=\"dataframe\">\n",
       "  <thead>\n",
       "    <tr style=\"text-align: right;\">\n",
       "      <th></th>\n",
       "      <th>procedure_name</th>\n",
       "      <th>parameter_name</th>\n",
       "      <th>allele_accession_id</th>\n",
       "      <th>gene_accession_id</th>\n",
       "      <th>gene_symbol</th>\n",
       "      <th>allele_symbol</th>\n",
       "      <th>zygosity</th>\n",
       "      <th>strain</th>\n",
       "      <th>est_f_ea</th>\n",
       "      <th>se_f_ea</th>\n",
       "      <th>p_f_ea</th>\n",
       "      <th>p_adj_f_ea</th>\n",
       "      <th>est_m_ea</th>\n",
       "      <th>se_m_ea</th>\n",
       "      <th>p_m_ea</th>\n",
       "      <th>p_adj_m_ea</th>\n",
       "      <th>est_type_ea</th>\n",
       "      <th>add_info_ea</th>\n",
       "      <th>wt_f_ea_count</th>\n",
       "      <th>wt_m_ea_count</th>\n",
       "      <th>mut_f_ea_count</th>\n",
       "      <th>mut_m_ea_count</th>\n",
       "      <th>total_number_of_mutants</th>\n",
       "      <th>gene_symbol_harmonized</th>\n",
       "    </tr>\n",
       "  </thead>\n",
       "  <tbody>\n",
       "    <tr>\n",
       "      <th>0</th>\n",
       "      <td>body composition (dexa lean/fat)</td>\n",
       "      <td>body weight</td>\n",
       "      <td>mgi:5694170</td>\n",
       "      <td>MGI:1913300</td>\n",
       "      <td>0610009B22Rik</td>\n",
       "      <td>0610009B22Rik&lt;tm1b(EUCOMM)Hmgu&gt;</td>\n",
       "      <td>homozygote</td>\n",
       "      <td>c57bl/6n</td>\n",
       "      <td>-0.56979</td>\n",
       "      <td>0.194647</td>\n",
       "      <td>0.003428</td>\n",
       "      <td>0.013711</td>\n",
       "      <td>-0.56979</td>\n",
       "      <td>0.194647</td>\n",
       "      <td>0.003428</td>\n",
       "      <td>0.00457</td>\n",
       "      <td>Overall genotype estimate</td>\n",
       "      <td>\"gender_included_in_analysis\":\"Both sexes included\", \"multibatch_in_analysis\":\"Data contains mul...</td>\n",
       "      <td>5034.0</td>\n",
       "      <td>5020.0</td>\n",
       "      <td>7.0</td>\n",
       "      <td>8.0</td>\n",
       "      <td>15.0</td>\n",
       "      <td>0610009B22Rik</td>\n",
       "    </tr>\n",
       "    <tr>\n",
       "      <th>1</th>\n",
       "      <td>body weight</td>\n",
       "      <td>body weight</td>\n",
       "      <td>not-released-0541dc0af7</td>\n",
       "      <td>MGI:1923511</td>\n",
       "      <td>0610040J01Rik</td>\n",
       "      <td>0610040J01Rik&lt;em1(IMPC)Ccpcz&gt;</td>\n",
       "      <td>homozygote</td>\n",
       "      <td>c57bl/6ncrl</td>\n",
       "      <td>-0.956256</td>\n",
       "      <td>0.558026</td>\n",
       "      <td>0.086929</td>\n",
       "      <td>0.115905</td>\n",
       "      <td>-0.956256</td>\n",
       "      <td>0.558026</td>\n",
       "      <td>0.086929</td>\n",
       "      <td>0.115905</td>\n",
       "      <td>Overall genotype estimate</td>\n",
       "      <td>\"gender_included_in_analysis\":\"Both sexes included\", \"multibatch_in_analysis\":\"Data contains mul...</td>\n",
       "      <td>5083.0</td>\n",
       "      <td>5198.0</td>\n",
       "      <td>8.0</td>\n",
       "      <td>8.0</td>\n",
       "      <td>16.0</td>\n",
       "      <td>0610040J01Rik</td>\n",
       "    </tr>\n",
       "  </tbody>\n",
       "</table>\n",
       "</div>"
      ],
      "text/plain": [
       "                     procedure_name parameter_name      allele_accession_id  \\\n",
       "0  body composition (dexa lean/fat)    body weight              mgi:5694170   \n",
       "1                       body weight    body weight  not-released-0541dc0af7   \n",
       "\n",
       "  gene_accession_id    gene_symbol                    allele_symbol  \\\n",
       "0       MGI:1913300  0610009B22Rik  0610009B22Rik<tm1b(EUCOMM)Hmgu>   \n",
       "1       MGI:1923511  0610040J01Rik    0610040J01Rik<em1(IMPC)Ccpcz>   \n",
       "\n",
       "     zygosity       strain  est_f_ea   se_f_ea    p_f_ea p_adj_f_ea  est_m_ea  \\\n",
       "0  homozygote     c57bl/6n  -0.56979  0.194647  0.003428   0.013711  -0.56979   \n",
       "1  homozygote  c57bl/6ncrl -0.956256  0.558026  0.086929   0.115905 -0.956256   \n",
       "\n",
       "    se_m_ea    p_m_ea p_adj_m_ea                est_type_ea  \\\n",
       "0  0.194647  0.003428    0.00457  Overall genotype estimate   \n",
       "1  0.558026  0.086929   0.115905  Overall genotype estimate   \n",
       "\n",
       "                                                                                           add_info_ea  \\\n",
       "0  \"gender_included_in_analysis\":\"Both sexes included\", \"multibatch_in_analysis\":\"Data contains mul...   \n",
       "1  \"gender_included_in_analysis\":\"Both sexes included\", \"multibatch_in_analysis\":\"Data contains mul...   \n",
       "\n",
       "  wt_f_ea_count wt_m_ea_count mut_f_ea_count mut_m_ea_count  \\\n",
       "0        5034.0        5020.0            7.0            8.0   \n",
       "1        5083.0        5198.0            8.0            8.0   \n",
       "\n",
       "  total_number_of_mutants gene_symbol_harmonized  \n",
       "0                    15.0          0610009B22Rik  \n",
       "1                    16.0          0610040J01Rik  "
      ]
     },
     "execution_count": 3,
     "metadata": {},
     "output_type": "execute_result"
    }
   ],
   "source": [
    "df_effect_size.head(2)"
   ]
  },
  {
   "cell_type": "code",
   "execution_count": 4,
   "metadata": {},
   "outputs": [
    {
     "data": {
      "text/html": [
       "<div>\n",
       "<style scoped>\n",
       "    .dataframe tbody tr th:only-of-type {\n",
       "        vertical-align: middle;\n",
       "    }\n",
       "\n",
       "    .dataframe tbody tr th {\n",
       "        vertical-align: top;\n",
       "    }\n",
       "\n",
       "    .dataframe thead th {\n",
       "        text-align: right;\n",
       "    }\n",
       "</style>\n",
       "<table border=\"1\" class=\"dataframe\">\n",
       "  <thead>\n",
       "    <tr style=\"text-align: right;\">\n",
       "      <th></th>\n",
       "      <th>Gene stable ID</th>\n",
       "      <th>Gene name</th>\n",
       "      <th>Sequence</th>\n",
       "    </tr>\n",
       "  </thead>\n",
       "  <tbody>\n",
       "    <tr>\n",
       "      <th>0</th>\n",
       "      <td>ENSMUSG00000064336</td>\n",
       "      <td>mt-Tf</td>\n",
       "      <td>GTTAATGTAGCTTAATAACAAAGCAAAGCACTGAAAATGCTTAGATGGATAATTGTATCCCATAAACA</td>\n",
       "    </tr>\n",
       "    <tr>\n",
       "      <th>1</th>\n",
       "      <td>ENSMUSG00000064337</td>\n",
       "      <td>mt-Rnr1</td>\n",
       "      <td>AAAGGTTTGGTCCTGGCCTTATAATTAATTAGAGGTAAAATTACACATGCAAACCTCCATAGACCGGTGTAAAATCCCTTAAACATTTACTTAAAA...</td>\n",
       "    </tr>\n",
       "  </tbody>\n",
       "</table>\n",
       "</div>"
      ],
      "text/plain": [
       "       Gene stable ID Gene name  \\\n",
       "0  ENSMUSG00000064336     mt-Tf   \n",
       "1  ENSMUSG00000064337   mt-Rnr1   \n",
       "\n",
       "                                                                                              Sequence  \n",
       "0                                 GTTAATGTAGCTTAATAACAAAGCAAAGCACTGAAAATGCTTAGATGGATAATTGTATCCCATAAACA  \n",
       "1  AAAGGTTTGGTCCTGGCCTTATAATTAATTAGAGGTAAAATTACACATGCAAACCTCCATAGACCGGTGTAAAATCCCTTAAACATTTACTTAAAA...  "
      ]
     },
     "execution_count": 4,
     "metadata": {},
     "output_type": "execute_result"
    }
   ],
   "source": [
    "df_dna.head(2)"
   ]
  },
  {
   "cell_type": "code",
   "execution_count": 5,
   "metadata": {},
   "outputs": [
    {
     "data": {
      "text/html": [
       "<div>\n",
       "<style scoped>\n",
       "    .dataframe tbody tr th:only-of-type {\n",
       "        vertical-align: middle;\n",
       "    }\n",
       "\n",
       "    .dataframe tbody tr th {\n",
       "        vertical-align: top;\n",
       "    }\n",
       "\n",
       "    .dataframe thead th {\n",
       "        text-align: right;\n",
       "    }\n",
       "</style>\n",
       "<table border=\"1\" class=\"dataframe\">\n",
       "  <thead>\n",
       "    <tr style=\"text-align: right;\">\n",
       "      <th></th>\n",
       "      <th>gene_symbol_harmonized</th>\n",
       "      <th>db</th>\n",
       "      <th>UniqueIdentifier</th>\n",
       "      <th>EntryName</th>\n",
       "      <th>ProteinName</th>\n",
       "      <th>OS</th>\n",
       "      <th>OX</th>\n",
       "      <th>GN</th>\n",
       "      <th>PE</th>\n",
       "      <th>SV</th>\n",
       "      <th>seq</th>\n",
       "    </tr>\n",
       "  </thead>\n",
       "  <tbody>\n",
       "    <tr>\n",
       "      <th>0</th>\n",
       "      <td>Hsf1</td>\n",
       "      <td>tr</td>\n",
       "      <td>A0A075F5C6</td>\n",
       "      <td>A0A075F5C6_MOUSE</td>\n",
       "      <td>Heat shock factor protein 1</td>\n",
       "      <td>Mus musculus</td>\n",
       "      <td>10090</td>\n",
       "      <td>Hsf1</td>\n",
       "      <td>1</td>\n",
       "      <td>1</td>\n",
       "      <td>MDLAVGPGAAGPSNVPAFLTKLWTLVSDPDTDALICWSPSGNSFHVFDQGQFAKEVLPKYFKHNNMASFVRQLNMYGFRKVVHIEQGGLVKPERDD...</td>\n",
       "    </tr>\n",
       "    <tr>\n",
       "      <th>1</th>\n",
       "      <td>Auts2</td>\n",
       "      <td>sp</td>\n",
       "      <td>A0A087WPF7</td>\n",
       "      <td>AUTS2_MOUSE</td>\n",
       "      <td>Autism susceptibility gene 2 protein homolog</td>\n",
       "      <td>Mus musculus</td>\n",
       "      <td>10090</td>\n",
       "      <td>Auts2</td>\n",
       "      <td>1</td>\n",
       "      <td>2</td>\n",
       "      <td>MDGPTRGHGLRKKRRSRSQRDRERRSRAGLGTGAAGGIGAGRTRAPSLASSSGSDKEDNGKPPSSAPSRPRPPRRKRRESTSAEEDIIDGFAMTSF...</td>\n",
       "    </tr>\n",
       "  </tbody>\n",
       "</table>\n",
       "</div>"
      ],
      "text/plain": [
       "  gene_symbol_harmonized  db UniqueIdentifier         EntryName  \\\n",
       "0                   Hsf1  tr       A0A075F5C6  A0A075F5C6_MOUSE   \n",
       "1                  Auts2  sp       A0A087WPF7       AUTS2_MOUSE   \n",
       "\n",
       "                                    ProteinName            OS     OX     GN  \\\n",
       "0                   Heat shock factor protein 1  Mus musculus  10090   Hsf1   \n",
       "1  Autism susceptibility gene 2 protein homolog  Mus musculus  10090  Auts2   \n",
       "\n",
       "  PE SV  \\\n",
       "0  1  1   \n",
       "1  1  2   \n",
       "\n",
       "                                                                                                   seq  \n",
       "0  MDLAVGPGAAGPSNVPAFLTKLWTLVSDPDTDALICWSPSGNSFHVFDQGQFAKEVLPKYFKHNNMASFVRQLNMYGFRKVVHIEQGGLVKPERDD...  \n",
       "1  MDGPTRGHGLRKKRRSRSQRDRERRSRAGLGTGAAGGIGAGRTRAPSLASSSGSDKEDNGKPPSSAPSRPRPPRRKRRESTSAEEDIIDGFAMTSF...  "
      ]
     },
     "execution_count": 5,
     "metadata": {},
     "output_type": "execute_result"
    }
   ],
   "source": [
    "df_protein.head(2)"
   ]
  },
  {
   "cell_type": "code",
   "execution_count": 6,
   "metadata": {},
   "outputs": [
    {
     "data": {
      "text/plain": [
       "18"
      ]
     },
     "execution_count": 6,
     "metadata": {},
     "output_type": "execute_result"
    }
   ],
   "source": [
    "(~df_effect_size['gene_symbol_harmonized'].isin(df_dna['Gene name'])).sum()"
   ]
  },
  {
   "cell_type": "code",
   "execution_count": 7,
   "metadata": {},
   "outputs": [
    {
     "data": {
      "text/plain": [
       "90"
      ]
     },
     "execution_count": 7,
     "metadata": {},
     "output_type": "execute_result"
    }
   ],
   "source": [
    "(~df_effect_size['gene_symbol_harmonized'].isin(df_protein['GN'])).sum()"
   ]
  },
  {
   "cell_type": "code",
   "execution_count": 8,
   "metadata": {},
   "outputs": [
    {
     "data": {
      "text/plain": [
       "(57010, 2)"
      ]
     },
     "execution_count": 8,
     "metadata": {},
     "output_type": "execute_result"
    }
   ],
   "source": [
    "df = df_dna.copy()\n",
    "\n",
    "df['gene_symbol'] = df['Gene name'].str.strip().str.lower()\n",
    "\n",
    "df['gene_symbol'] = df['gene_symbol'].fillna('DNA_' + df['Gene stable ID'])\n",
    "\n",
    "df['gene_sequence'] = df['Sequence'].copy()\n",
    "\n",
    "df = df[['gene_symbol', 'gene_sequence']]\n",
    "\n",
    "df = df.drop_duplicates()\n",
    "\n",
    "df_dna_harmonized = df.copy()\n",
    "\n",
    "df.shape"
   ]
  },
  {
   "cell_type": "code",
   "execution_count": 9,
   "metadata": {},
   "outputs": [
    {
     "data": {
      "text/plain": [
       "(91635, 2)"
      ]
     },
     "execution_count": 9,
     "metadata": {},
     "output_type": "execute_result"
    }
   ],
   "source": [
    "df = df_protein.copy()\n",
    "\n",
    "df['gene_symbol'] = df['GN'].str.strip().str.lower()\n",
    "\n",
    "df['gene_symbol'] = df['gene_symbol'].fillna('PROTEIN_' + df['UniqueIdentifier'])\n",
    "\n",
    "df['protein_sequence'] = df['seq'].copy()\n",
    "\n",
    "df = df[['gene_symbol', 'protein_sequence']]\n",
    "\n",
    "df = df.drop_duplicates()\n",
    "\n",
    "df_protein_harmonized = df.copy()\n",
    "\n",
    "df.shape"
   ]
  },
  {
   "cell_type": "code",
   "execution_count": 10,
   "metadata": {},
   "outputs": [
    {
     "data": {
      "text/html": [
       "<div>\n",
       "<style scoped>\n",
       "    .dataframe tbody tr th:only-of-type {\n",
       "        vertical-align: middle;\n",
       "    }\n",
       "\n",
       "    .dataframe tbody tr th {\n",
       "        vertical-align: top;\n",
       "    }\n",
       "\n",
       "    .dataframe thead th {\n",
       "        text-align: right;\n",
       "    }\n",
       "</style>\n",
       "<table border=\"1\" class=\"dataframe\">\n",
       "  <thead>\n",
       "    <tr style=\"text-align: right;\">\n",
       "      <th></th>\n",
       "      <th>gene_symbol</th>\n",
       "      <th>gene_sequence</th>\n",
       "      <th>protein_sequence</th>\n",
       "    </tr>\n",
       "  </thead>\n",
       "  <tbody>\n",
       "    <tr>\n",
       "      <th>105150</th>\n",
       "      <td>lepr</td>\n",
       "      <td>AGTGCCCCGCAGCGTCGCGCCCGCGCACGAGTGGTCGGCACCTTCTGAGCCAGCAGCATAGAGCCCAGGCATCCCTGCTTTACGCCACTCCGGGAC...</td>\n",
       "      <td>MMCQKFYVVLLHWEFLYVIAALNLAYPISPWKFKLFCGPPNTTDDSFLSPAGAPNNASALKGASEAIVEAKFNSSGIYVPELSKTVFHCCFGNEQG...</td>\n",
       "    </tr>\n",
       "    <tr>\n",
       "      <th>105151</th>\n",
       "      <td>lepr</td>\n",
       "      <td>AGTGCCCCGCAGCGTCGCGCCCGCGCACGAGTGGTCGGCACCTTCTGAGCCAGCAGCATAGAGCCCAGGCATCCCTGCTTTACGCCACTCCGGGAC...</td>\n",
       "      <td>MMCQKFYVVLLHWEFLYVIAALNLAYPISPWKFKLFCGPPNTTDDSFLSPAGAPNNASALKGASEAIVEAKFNSSGIYVPELSKTVFHCCFGNEQG...</td>\n",
       "    </tr>\n",
       "    <tr>\n",
       "      <th>105152</th>\n",
       "      <td>lepr</td>\n",
       "      <td>AGTGCCCCGCAGCGTCGCGCCCGCGCACGAGTGGTCGGCACCTTCTGAGCCAGCAGCATAGAGCCCAGGCATCCCTGCTTTACGCCACTCCGGGAC...</td>\n",
       "      <td>MMCQKFYVVLLHWEFLYVIAALNLAYPISPWKFKLFCGPPNTTDDSFLSPAGAPNNASALKGASEAIVEAKFNSSGIYVPELSKTVFHCCFGNEQG...</td>\n",
       "    </tr>\n",
       "    <tr>\n",
       "      <th>105153</th>\n",
       "      <td>lepr</td>\n",
       "      <td>AGTGCCCCGCAGCGTCGCGCCCGCGCACGAGTGGTCGGCACCTTCTGAGCCAGCAGCATAGAGCCCAGGCATCCCTGCTTTACGCCACTCCGGGAC...</td>\n",
       "      <td>MMCQKFYVVLLHWEFLYVIAALNLAYPISPWKFKLFCGPPNTTDDSFLSPAGAPNNASALKGASEAIVEAKFNSSGIYVPELSKTVFHCCFGNEQG...</td>\n",
       "    </tr>\n",
       "    <tr>\n",
       "      <th>105154</th>\n",
       "      <td>lepr</td>\n",
       "      <td>AGTGCCCCGCAGCGTCGCGCCCGCGCACGAGTGGTCGGCACCTTCTGAGCCAGCAGCATAGAGCCCAGGCATCCCTGCTTTACGCCACTCCGGGAC...</td>\n",
       "      <td>MMCQKFYVVLLHWEFLYVIAALNLAYPISPWKFKLFCGPPNTTDDSFLSPAGAPNNASALKGASEAIVEAKFNSSGIYVPELSKTVFHCCFGNEQG...</td>\n",
       "    </tr>\n",
       "    <tr>\n",
       "      <th>105155</th>\n",
       "      <td>lepr</td>\n",
       "      <td>AGTGCCCCGCAGCGTCGCGCCCGCGCACGAGTGGTCGGCACCTTCTGAGCCAGCAGCATAGAGCCCAGGCATCCCTGCTTTACGCCACTCCGGGAC...</td>\n",
       "      <td>MMCQKFYVVLLHWEFLYVIAALNLAYPISP</td>\n",
       "    </tr>\n",
       "    <tr>\n",
       "      <th>105156</th>\n",
       "      <td>lepr</td>\n",
       "      <td>AGTGCCCCGCAGCGTCGCGCCCGCGCACGAGTGGTCGGCACCTTCTGAGCCAGCAGCATAGAGCCCAGGCATCCCTGCTTTACGCCACTCCGGGAC...</td>\n",
       "      <td>MMCQKFYVVLLHWEFLYVIAALNLAYPISPWKFKLFCGPPNTTDDSFLSPAGAPNNASALKGASEAIVEAKFNSSGIYVPELSKTVFHCCFG</td>\n",
       "    </tr>\n",
       "    <tr>\n",
       "      <th>105157</th>\n",
       "      <td>lepr</td>\n",
       "      <td>AGTGCCCCGCAGCGTCGCGCCCGCGCACGAGTGGTCGGCACCTTCTGAGCCAGCAGCATAGAGCCCAGGCATCCCTGCTTTACGCCACTCCGGGAC...</td>\n",
       "      <td>MMCQKFYVVLLHWEFLYVIAALNLAYPISPWKFKLFCGPPNTTDDSFLSPAGAPNNASALKGASEAIVEAKFNSSGIYVPELSKTVFHCCFGNEQG...</td>\n",
       "    </tr>\n",
       "    <tr>\n",
       "      <th>105158</th>\n",
       "      <td>lepr</td>\n",
       "      <td>AGTGCCCCGCAGCGTCGCGCCCGCGCACGAGTGGTCGGCACCTTCTGAGCCAGCAGCATAGAGCCCAGGCATCCCTGCTTTACGCCACTCCGGGAC...</td>\n",
       "      <td>PMRGPEFWRKMDGDVTKKREMSPCFG</td>\n",
       "    </tr>\n",
       "  </tbody>\n",
       "</table>\n",
       "</div>"
      ],
      "text/plain": [
       "       gene_symbol  \\\n",
       "105150        lepr   \n",
       "105151        lepr   \n",
       "105152        lepr   \n",
       "105153        lepr   \n",
       "105154        lepr   \n",
       "105155        lepr   \n",
       "105156        lepr   \n",
       "105157        lepr   \n",
       "105158        lepr   \n",
       "\n",
       "                                                                                              gene_sequence  \\\n",
       "105150  AGTGCCCCGCAGCGTCGCGCCCGCGCACGAGTGGTCGGCACCTTCTGAGCCAGCAGCATAGAGCCCAGGCATCCCTGCTTTACGCCACTCCGGGAC...   \n",
       "105151  AGTGCCCCGCAGCGTCGCGCCCGCGCACGAGTGGTCGGCACCTTCTGAGCCAGCAGCATAGAGCCCAGGCATCCCTGCTTTACGCCACTCCGGGAC...   \n",
       "105152  AGTGCCCCGCAGCGTCGCGCCCGCGCACGAGTGGTCGGCACCTTCTGAGCCAGCAGCATAGAGCCCAGGCATCCCTGCTTTACGCCACTCCGGGAC...   \n",
       "105153  AGTGCCCCGCAGCGTCGCGCCCGCGCACGAGTGGTCGGCACCTTCTGAGCCAGCAGCATAGAGCCCAGGCATCCCTGCTTTACGCCACTCCGGGAC...   \n",
       "105154  AGTGCCCCGCAGCGTCGCGCCCGCGCACGAGTGGTCGGCACCTTCTGAGCCAGCAGCATAGAGCCCAGGCATCCCTGCTTTACGCCACTCCGGGAC...   \n",
       "105155  AGTGCCCCGCAGCGTCGCGCCCGCGCACGAGTGGTCGGCACCTTCTGAGCCAGCAGCATAGAGCCCAGGCATCCCTGCTTTACGCCACTCCGGGAC...   \n",
       "105156  AGTGCCCCGCAGCGTCGCGCCCGCGCACGAGTGGTCGGCACCTTCTGAGCCAGCAGCATAGAGCCCAGGCATCCCTGCTTTACGCCACTCCGGGAC...   \n",
       "105157  AGTGCCCCGCAGCGTCGCGCCCGCGCACGAGTGGTCGGCACCTTCTGAGCCAGCAGCATAGAGCCCAGGCATCCCTGCTTTACGCCACTCCGGGAC...   \n",
       "105158  AGTGCCCCGCAGCGTCGCGCCCGCGCACGAGTGGTCGGCACCTTCTGAGCCAGCAGCATAGAGCCCAGGCATCCCTGCTTTACGCCACTCCGGGAC...   \n",
       "\n",
       "                                                                                           protein_sequence  \n",
       "105150  MMCQKFYVVLLHWEFLYVIAALNLAYPISPWKFKLFCGPPNTTDDSFLSPAGAPNNASALKGASEAIVEAKFNSSGIYVPELSKTVFHCCFGNEQG...  \n",
       "105151  MMCQKFYVVLLHWEFLYVIAALNLAYPISPWKFKLFCGPPNTTDDSFLSPAGAPNNASALKGASEAIVEAKFNSSGIYVPELSKTVFHCCFGNEQG...  \n",
       "105152  MMCQKFYVVLLHWEFLYVIAALNLAYPISPWKFKLFCGPPNTTDDSFLSPAGAPNNASALKGASEAIVEAKFNSSGIYVPELSKTVFHCCFGNEQG...  \n",
       "105153  MMCQKFYVVLLHWEFLYVIAALNLAYPISPWKFKLFCGPPNTTDDSFLSPAGAPNNASALKGASEAIVEAKFNSSGIYVPELSKTVFHCCFGNEQG...  \n",
       "105154  MMCQKFYVVLLHWEFLYVIAALNLAYPISPWKFKLFCGPPNTTDDSFLSPAGAPNNASALKGASEAIVEAKFNSSGIYVPELSKTVFHCCFGNEQG...  \n",
       "105155                                                                       MMCQKFYVVLLHWEFLYVIAALNLAYPISP  \n",
       "105156         MMCQKFYVVLLHWEFLYVIAALNLAYPISPWKFKLFCGPPNTTDDSFLSPAGAPNNASALKGASEAIVEAKFNSSGIYVPELSKTVFHCCFG  \n",
       "105157  MMCQKFYVVLLHWEFLYVIAALNLAYPISPWKFKLFCGPPNTTDDSFLSPAGAPNNASALKGASEAIVEAKFNSSGIYVPELSKTVFHCCFGNEQG...  \n",
       "105158                                                                           PMRGPEFWRKMDGDVTKKREMSPCFG  "
      ]
     },
     "execution_count": 10,
     "metadata": {},
     "output_type": "execute_result"
    }
   ],
   "source": [
    "df = df_dna_harmonized.merge(df_protein_harmonized, how='outer')\n",
    "\n",
    "df = df.loc[df['gene_symbol'] == 'lepr']\n",
    "\n",
    "df"
   ]
  },
  {
   "cell_type": "code",
   "execution_count": 11,
   "metadata": {},
   "outputs": [],
   "source": [
    "# df = df_gene_protein.copy()\n",
    "\n",
    "# df.loc[df['Gene stable ID'].duplicated()]"
   ]
  },
  {
   "cell_type": "code",
   "execution_count": null,
   "metadata": {},
   "outputs": [],
   "source": []
  }
 ],
 "metadata": {
  "kernelspec": {
   "display_name": "development",
   "language": "python",
   "name": "python3"
  },
  "language_info": {
   "codemirror_mode": {
    "name": "ipython",
    "version": 3
   },
   "file_extension": ".py",
   "mimetype": "text/x-python",
   "name": "python",
   "nbconvert_exporter": "python",
   "pygments_lexer": "ipython3",
   "version": "3.9.10"
  },
  "orig_nbformat": 4,
  "vscode": {
   "interpreter": {
    "hash": "a2d6514f9963693ddf9848f840dcbc46c3e7b9abcac09ab97b6beeb9a964f0bf"
   }
  }
 },
 "nbformat": 4,
 "nbformat_minor": 2
}
