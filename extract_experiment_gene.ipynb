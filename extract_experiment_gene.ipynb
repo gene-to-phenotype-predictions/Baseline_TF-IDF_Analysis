{
 "cells": [
  {
   "cell_type": "code",
   "execution_count": null,
   "metadata": {},
   "outputs": [],
   "source": [
    "import os as os\n",
    "import sys as sys\n",
    "import re as re\n",
    "import pandas as pd\n",
    "import numpy as np\n",
    "import json as json\n",
    "import urllib as urllib\n",
    "import zlib as zlib\n",
    "import base64 as base64\n",
    "from requests import Request, Session\n",
    "from numpy import trapz\n",
    "import itertools\n",
    "import zlib as zlib\n",
    "import base64 as base64\n",
    "import pickle\n",
    "import pathlib\n",
    "import tqdm\n",
    "from datetime import datetime\n",
    "\n",
    "pd.options.display.max_columns = 100\n",
    "pd.options.display.min_rows = None\n",
    "pd.options.display.max_rows = 20\n",
    "pd.options.display.max_colwidth = 10000"
   ]
  },
  {
   "cell_type": "code",
   "execution_count": null,
   "metadata": {},
   "outputs": [],
   "source": [
    "from utils import solr\n",
    "from utils.logger import logger as log\n",
    "\n",
    "log.info('START')\n",
    "\n",
    "ROWS = solr.select('experiment', {'params':{'q':'*:*', 'rows':0}})['response']['numFound']\n",
    "\n",
    "print(ROWS)"
   ]
  },
  {
   "cell_type": "code",
   "execution_count": null,
   "metadata": {},
   "outputs": [],
   "source": [
    "data = solr.select('experiment', \n",
    "{\n",
    "    'params':\n",
    "    {\n",
    "        'q':'*:*',\n",
    "        'wt':'csv',\n",
    "        'rows': 0,\n",
    "        'facet':''\n",
    "    }\n",
    "})\n",
    "\n",
    "fl = pd.Series(data.decode('utf-8').split(','))\n",
    "\n",
    "fl = ','.join(fl.sort_values().str.strip().tolist())\n",
    "\n",
    "fl.split(',')"
   ]
  },
  {
   "cell_type": "code",
   "execution_count": null,
   "metadata": {},
   "outputs": [],
   "source": [
    "q = f'''\n",
    "specimen_id:[* TO *]  AND \n",
    "sex:[* TO *]  AND observation_type:unidimensional AND life_stage_name:[* TO *] AND\n",
    "\n",
    "(\n",
    "    (procedure_name:\"Body Weight\" AND parameter_name:\"Body weight\") OR\n",
    "    (procedure_name:\"Body Weight\" AND parameter_name:\"Body Weight\")\n",
    ")\n",
    "'''\n",
    "     \n",
    "fl = 'id, specimen_id, gene_symbol, gene_accession_id, allele_symbol, allele_accession_id, zygosity, biological_sample_group, strain_name, sex, observation_type, life_stage_name, age_in_days, data_point, _version_'\n",
    "\n",
    "data = solr.select('experiment', \n",
    "{\n",
    "    'params':\n",
    "    {\n",
    "        'q':q,\n",
    "        'rows': ROWS,\n",
    "        'fl':fl\n",
    "    }\n",
    "})\n",
    "\n",
    "log.info('Create dataframe.')\n",
    "\n",
    "df = pd.DataFrame(data['response']['docs'])\n",
    "\n",
    "log.info('Write to file.')\n",
    "\n",
    "df.to_pickle('gene.pkl')"
   ]
  }
 ],
 "metadata": {
  "kernelspec": {
   "display_name": "development",
   "language": "python",
   "name": "python3"
  },
  "language_info": {
   "codemirror_mode": {
    "name": "ipython",
    "version": 3
   },
   "file_extension": ".py",
   "mimetype": "text/x-python",
   "name": "python",
   "nbconvert_exporter": "python",
   "pygments_lexer": "ipython3",
   "version": "3.9.10"
  },
  "orig_nbformat": 4,
  "vscode": {
   "interpreter": {
    "hash": "a2d6514f9963693ddf9848f840dcbc46c3e7b9abcac09ab97b6beeb9a964f0bf"
   }
  }
 },
 "nbformat": 4,
 "nbformat_minor": 2
}
