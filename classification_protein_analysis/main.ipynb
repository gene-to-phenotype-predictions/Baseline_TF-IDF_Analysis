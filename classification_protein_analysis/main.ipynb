{
 "cells": [
  {
   "cell_type": "code",
   "execution_count": 1,
   "metadata": {},
   "outputs": [],
   "source": [
    "import os as os\n",
    "import sys as sys\n",
    "import re as re\n",
    "import pandas as pd\n",
    "import numpy as np\n",
    "import json as json\n",
    "import pickle\n",
    "import urllib as urllib\n",
    "import zlib as zlib\n",
    "import base64 as base64\n",
    "from requests import Request, Session\n",
    "import requests\n",
    "from numpy import trapz\n",
    "import itertools\n",
    "import zlib as zlib\n",
    "import base64 as base64\n",
    "import pickle\n",
    "import pathlib\n",
    "from tqdm import tqdm\n",
    "from datetime import datetime\n",
    "import time\n",
    "import copy\n",
    "import nltk\n",
    "from sklearn.feature_extraction.text import TfidfVectorizer, CountVectorizer\n",
    "from sklearn.linear_model import LinearRegression\n",
    "from sklearn.model_selection import train_test_split\n",
    "from sklearn.neighbors import KNeighborsRegressor\n",
    "from sklearn.neighbors import KNeighborsClassifier\n",
    "from sklearn.linear_model import LogisticRegression\n",
    "from tqdm import tqdm\n",
    "from scipy.sparse import lil_matrix, csr_matrix\n",
    "\n",
    "pd.options.display.max_columns = 100\n",
    "pd.options.display.min_rows = None\n",
    "pd.options.display.max_rows = 20\n",
    "pd.options.display.max_colwidth = 100\n",
    "\n",
    "DATA_PATH = pathlib.Path('/data1/home/adpatter/gene-to-phenotype-predictions/adpatter/data/')\n",
    "EFFECT_SIZE_PATH = DATA_PATH.joinpath('capstone_body_weight_Statistical_effect_size_analysis_genotype_early_adult_scaled_13022023_gene_symbol_harmonized.pkl')\n",
    "PROTEIN_SEQ_PATH = DATA_PATH.joinpath('gene_symbol_protein_sequences.pkl')"
   ]
  },
  {
   "cell_type": "code",
   "execution_count": 2,
   "metadata": {},
   "outputs": [],
   "source": [
    "df = pd.read_pickle(EFFECT_SIZE_PATH)\n",
    "\n",
    "df = df.groupby(['gene_symbol_harmonized'], group_keys=False).apply(lambda x: x.loc[x['est_m_ea'] == x['est_m_ea'].max()])\n",
    "\n",
    "assert not df['gene_symbol_harmonized'].duplicated().any()\n",
    "\n",
    "df_effect_size = df.copy()"
   ]
  },
  {
   "cell_type": "code",
   "execution_count": 11,
   "metadata": {},
   "outputs": [
    {
     "name": "stdout",
     "output_type": "stream",
     "text": [
      "(2929, 3)\n"
     ]
    }
   ],
   "source": [
    "df = pd.read_pickle(PROTEIN_SEQ_PATH)\n",
    "\n",
    "df = df.groupby(['gene_symbol_harmonized']).filter(lambda x: x['motifs'].notna().any())\n",
    "\n",
    "df = df[['gene_symbol_harmonized', 'seq']]\n",
    "\n",
    "df = df.drop_duplicates()\n",
    "\n",
    "df = df_effect_size.merge(df, how='inner', on='gene_symbol_harmonized')\n",
    "\n",
    "df = df[['gene_symbol_harmonized', 'est_m_ea', 'seq']]\n",
    "\n",
    "print(df.shape)\n",
    "\n",
    "assert not df[['gene_symbol_harmonized', 'seq']].duplicated().any()\n",
    "\n",
    "# df.to_pickle(DATA_PATH.joinpath('protein_effect_size_analysis.pkl'))\n",
    "\n",
    "df['class'] = df['est_m_ea'].apply(lambda x: 0 if x <= 0 else 1)\n",
    "\n",
    "# df = df.groupby(['gene_symbol_harmonized']).sample(n=1)\n",
    "\n",
    "hold_out_genes = df['gene_symbol_harmonized'].drop_duplicates().sample(frac=.5)\n",
    "\n",
    "_df_validation = df.loc[~df['gene_symbol_harmonized'].isin(hold_out_genes)]\n",
    "\n",
    "_df_holdout = df.loc[df['gene_symbol_harmonized'].isin(hold_out_genes)]"
   ]
  },
  {
   "cell_type": "code",
   "execution_count": 23,
   "metadata": {},
   "outputs": [
    {
     "name": "stderr",
     "output_type": "stream",
     "text": [
      "100%|██████████| 1/1 [00:01<00:00,  1.28s/it]\n"
     ]
    }
   ],
   "source": [
    "model = None\n",
    "scores = []\n",
    "for i in tqdm(range(0,1)):\n",
    "\n",
    "    df = _df_validation.copy()\n",
    "\n",
    "    train_genes = df['gene_symbol_harmonized'].drop_duplicates().sample(frac=.8)\n",
    "\n",
    "    df = df.loc[df['gene_symbol_harmonized'].isin(train_genes)]\n",
    "\n",
    "    min_count = df['class'].value_counts().min()\n",
    "\n",
    "    df = df.groupby(['class']).sample(n=min_count)\n",
    "\n",
    "    df_train = df.copy()\n",
    "\n",
    "    df = _df_validation.copy()\n",
    "\n",
    "    df = df.loc[~df['gene_symbol_harmonized'].isin(train_genes)]\n",
    "\n",
    "    # min_count = df['class'].value_counts().min()\n",
    "\n",
    "    # df = df.groupby(['class']).sample(n=min_count)\n",
    "\n",
    "    df_valid = df.copy()\n",
    "\n",
    "    vectorizer = TfidfVectorizer(analyzer='char', ngram_range=(42,42))\n",
    "    vectorizer = vectorizer.fit(df_train['seq'].tolist())\n",
    "\n",
    "    X_train = vectorizer.transform(df_train['seq'].tolist())\n",
    "    y_train = df_train['class'].tolist()\n",
    "\n",
    "    X_valid = vectorizer.transform(df_valid['seq'].tolist())\n",
    "    y_valid = df_valid['class'].tolist()\n",
    "\n",
    "    clf = KNeighborsClassifier(n_neighbors=3)\n",
    "\n",
    "    clf = clf.fit(X_train, y_train)\n",
    "\n",
    "    score = clf.score(X_valid, y_valid)\n",
    "\n",
    "    scores.append((i,score))"
   ]
  },
  {
   "cell_type": "code",
   "execution_count": 24,
   "metadata": {},
   "outputs": [
    {
     "data": {
      "text/plain": [
       "[(0, 0.6176470588235294)]"
      ]
     },
     "execution_count": 24,
     "metadata": {},
     "output_type": "execute_result"
    }
   ],
   "source": [
    "scores"
   ]
  },
  {
   "cell_type": "code",
   "execution_count": 6,
   "metadata": {},
   "outputs": [],
   "source": [
    "# _X_test = lil_matrix(model['vectorizer'].transform(model['df_holdout']['seq'].tolist()))\n",
    "# _X_test = csr_matrix((_X_test.shape[0],_X_test.shape[1]))\n",
    "# _y_test = model['df_holdout']['class'].tolist()\n",
    "# model['model'].score(_X_test, _y_test)"
   ]
  },
  {
   "cell_type": "code",
   "execution_count": 7,
   "metadata": {},
   "outputs": [],
   "source": [
    "# scores = []\n",
    "\n",
    "# for i in tqdm(range(0, _X_test.shape[1], 42)):\n",
    "#     X_test = _X_test.copy()\n",
    "#     X_test[:,i:i+42] = 0\n",
    "#     score = model['model'].score(X_test, _y_test)\n",
    "#     scores.append(score)\n",
    "\n",
    "# pd.Series(scores).value_counts()"
   ]
  },
  {
   "cell_type": "code",
   "execution_count": 8,
   "metadata": {},
   "outputs": [],
   "source": [
    "# csr_matrix(np.zeros((_X_test.shape[0],_X_test.shape[1])))"
   ]
  },
  {
   "cell_type": "code",
   "execution_count": 9,
   "metadata": {},
   "outputs": [],
   "source": [
    "# s.value_counts()\n",
    "\n",
    "# print(score)\n",
    "\n",
    "# # if model is None or score > model['score']:\n",
    "# #     model = {\n",
    "# #         'vectorizer': vectorizer, \n",
    "# #         'X_train': X_train, \n",
    "# #         'y_train': y_train, \n",
    "# #         'X_valid': X_valid, \n",
    "# #         'y_valid': y_valid, \n",
    "# #         'model': clf, \n",
    "# #         'score':score,\n",
    "# #         'df_holdout': _df_holdout\n",
    "# #     }"
   ]
  },
  {
   "cell_type": "code",
   "execution_count": 10,
   "metadata": {},
   "outputs": [],
   "source": [
    "# with open('model.pkl', 'wb') as f:\n",
    "#     pickle.dump(model, f)"
   ]
  }
 ],
 "metadata": {
  "kernelspec": {
   "display_name": "Development",
   "language": "python",
   "name": "development"
  },
  "language_info": {
   "codemirror_mode": {
    "name": "ipython",
    "version": 3
   },
   "file_extension": ".py",
   "mimetype": "text/x-python",
   "name": "python",
   "nbconvert_exporter": "python",
   "pygments_lexer": "ipython3",
   "version": "3.9.10"
  },
  "orig_nbformat": 4,
  "vscode": {
   "interpreter": {
    "hash": "a2d6514f9963693ddf9848f840dcbc46c3e7b9abcac09ab97b6beeb9a964f0bf"
   }
  }
 },
 "nbformat": 4,
 "nbformat_minor": 2
}
