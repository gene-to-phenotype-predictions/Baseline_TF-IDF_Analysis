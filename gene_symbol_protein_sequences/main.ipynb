{
 "cells": [
  {
   "cell_type": "code",
   "execution_count": null,
   "metadata": {},
   "outputs": [],
   "source": [
    "import os as os\n",
    "import sys as sys\n",
    "import re as re\n",
    "import pandas as pd\n",
    "import numpy as np\n",
    "import json as json\n",
    "import pickle\n",
    "import urllib as urllib\n",
    "import zlib as zlib\n",
    "import base64 as base64\n",
    "from requests import Request, Session\n",
    "import requests\n",
    "from numpy import trapz\n",
    "import itertools\n",
    "import zlib as zlib\n",
    "import base64 as base64\n",
    "import pickle\n",
    "import pathlib\n",
    "from tqdm import tqdm\n",
    "from datetime import datetime\n",
    "import time\n",
    "import copy\n",
    "\n",
    "pd.options.display.max_columns = 100\n",
    "pd.options.display.min_rows = None\n",
    "pd.options.display.max_rows = 20\n",
    "pd.options.display.max_colwidth = 10000\n",
    "\n",
    "DATA_PATH = '/data1/home/adpatter/gene-to-phenotype-predictions/adpatter/data/'\n",
    "\n",
    "PROTEIN_SEQUENCE_PATH = pathlib.Path(DATA_PATH).joinpath('uniprot-compressed_true_download_true_format_json_query__28_28taxono-2023.02.05-17.45.13.08.json')\n",
    "\n",
    "RESULT_PATH = pathlib.Path(DATA_PATH).joinpath('gene_symbol_protein_sequences.pkl')"
   ]
  },
  {
   "cell_type": "code",
   "execution_count": null,
   "metadata": {},
   "outputs": [],
   "source": [
    "with open(PROTEIN_SEQUENCE_PATH, 'r') as f:\n",
    "    data = json.load(f)"
   ]
  },
  {
   "cell_type": "code",
   "execution_count": null,
   "metadata": {},
   "outputs": [],
   "source": [
    "records = []\n",
    "results = data['results']\n",
    "for result in results:\n",
    "    primary_accession = result['primaryAccession']\n",
    "    uniprotkb_id = result['uniProtkbId']\n",
    "    if 'sequence' in result:\n",
    "        sequence = result['sequence']['value']\n",
    "        if 'genes' in result and len(result['genes']) != 0:\n",
    "            for gene in result['genes']:\n",
    "                gene_names = []\n",
    "                if 'geneName' in gene:\n",
    "                    gene_names.append(gene['geneName'])\n",
    "                if 'synonyms' in gene:\n",
    "                    gene_names.extend(gene['synonyms'])\n",
    "                if 'orfNames' in gene:\n",
    "                    gene_names.extend(gene['orfNames'])\n",
    "                for gene_name in gene_names:\n",
    "                    if 'value' in gene_name:\n",
    "                        gene_symbol = gene_name['value']\n",
    "                        records.append({\n",
    "                            'gene_symbol': gene_symbol,\n",
    "                            'primary_accession': primary_accession,\n",
    "                            'uniprotkb_id': uniprotkb_id,\n",
    "                            'sequence': sequence\n",
    "                        })"
   ]
  },
  {
   "cell_type": "code",
   "execution_count": null,
   "metadata": {},
   "outputs": [],
   "source": [
    "df = pd.DataFrame(records)\n",
    "\n",
    "df.to_pickle(RESULT_PATH)"
   ]
  }
 ],
 "metadata": {
  "kernelspec": {
   "display_name": "development",
   "language": "python",
   "name": "python3"
  },
  "language_info": {
   "codemirror_mode": {
    "name": "ipython",
    "version": 3
   },
   "file_extension": ".py",
   "mimetype": "text/x-python",
   "name": "python",
   "nbconvert_exporter": "python",
   "pygments_lexer": "ipython3",
   "version": "3.9.10"
  },
  "orig_nbformat": 4,
  "vscode": {
   "interpreter": {
    "hash": "a2d6514f9963693ddf9848f840dcbc46c3e7b9abcac09ab97b6beeb9a964f0bf"
   }
  }
 },
 "nbformat": 4,
 "nbformat_minor": 2
}
