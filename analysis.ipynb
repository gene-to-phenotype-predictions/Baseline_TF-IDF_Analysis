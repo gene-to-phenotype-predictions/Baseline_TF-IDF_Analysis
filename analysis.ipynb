{
 "cells": [
  {
   "cell_type": "code",
   "execution_count": 1,
   "metadata": {},
   "outputs": [
    {
     "name": "stdout",
     "output_type": "stream",
     "text": [
      "57\n"
     ]
    }
   ],
   "source": [
    "import os as os\n",
    "import sys as sys\n",
    "import re as re\n",
    "import pandas as pd\n",
    "import numpy as np\n",
    "import json as json\n",
    "import pickle\n",
    "from subprocess import run\n",
    "\n",
    "\n",
    "pd.options.display.max_columns = 100\n",
    "pd.options.display.min_rows = None\n",
    "pd.options.display.max_rows = 20\n",
    "pd.options.display.max_colwidth = 1000\n",
    "\n",
    "from config import RANDOM_STATE, RESULTS_PATH\n",
    "\n",
    "RANDOM_STATE = 18"
   ]
  },
  {
   "cell_type": "code",
   "execution_count": 13,
   "metadata": {},
   "outputs": [
    {
     "name": "stdout",
     "output_type": "stream",
     "text": [
      "0.39114391143911437\n",
      "0.5276752767527675\n",
      "0.5387453874538746\n",
      "0.5387453874538746\n",
      "0.3837638376383764\n"
     ]
    }
   ],
   "source": [
    "with open(RESULTS_PATH.joinpath('protein_42.pkl'), 'rb') as f:\n",
    "    data = pickle.load(f)\n",
    "\n",
    "RANDOM_STATE, X_train, y_train, X_test, y_test, estimator_model = data.values()\n",
    "\n",
    "for est, model in estimator_model.items():\n",
    "\n",
    "    print(model.score(X_test, y_test))"
   ]
  },
  {
   "cell_type": "code",
   "execution_count": 12,
   "metadata": {},
   "outputs": [
    {
     "data": {
      "text/plain": [
       "dict_keys([KNeighborsClassifier(), LogisticRegression(), SVC(), DummyClassifier(), DummyClassifier()])"
      ]
     },
     "execution_count": 12,
     "metadata": {},
     "output_type": "execute_result"
    }
   ],
   "source": [
    "estimator_model.keys()"
   ]
  },
  {
   "cell_type": "code",
   "execution_count": 15,
   "metadata": {},
   "outputs": [
    {
     "data": {
      "text/html": [
       "<div>\n",
       "<style scoped>\n",
       "    .dataframe tbody tr th:only-of-type {\n",
       "        vertical-align: middle;\n",
       "    }\n",
       "\n",
       "    .dataframe tbody tr th {\n",
       "        vertical-align: top;\n",
       "    }\n",
       "\n",
       "    .dataframe thead th {\n",
       "        text-align: right;\n",
       "    }\n",
       "</style>\n",
       "<table border=\"1\" class=\"dataframe\">\n",
       "  <thead>\n",
       "    <tr style=\"text-align: right;\">\n",
       "      <th></th>\n",
       "      <th>classifier</th>\n",
       "      <th>best_params_</th>\n",
       "      <th>best_score_</th>\n",
       "      <th>test_score</th>\n",
       "    </tr>\n",
       "  </thead>\n",
       "  <tbody>\n",
       "    <tr>\n",
       "      <th>0</th>\n",
       "      <td>KNeighborsClassifier</td>\n",
       "      <td>{'kNeighborsClassifier__n_neighbors': 3, 'tfidfVectorizer__ngram_range': (4, 4), 'tfidfVectorizer__norm': 'l1'}</td>\n",
       "      <td>0.232388</td>\n",
       "      <td>0.214945</td>\n",
       "    </tr>\n",
       "    <tr>\n",
       "      <th>1</th>\n",
       "      <td>SVC</td>\n",
       "      <td>{'SVC__C': 1, 'SVC__gamma': 'scale', 'SVC__kernel': 'rbf', 'tfidfVectorizer__ngram_range': (4, 4), 'tfidfVectorizer__norm': 'l2'}</td>\n",
       "      <td>0.545812</td>\n",
       "      <td>0.561808</td>\n",
       "    </tr>\n",
       "    <tr>\n",
       "      <th>2</th>\n",
       "      <td>LogisticRegression</td>\n",
       "      <td>{'logisticRegression__C': 0.001, 'tfidfVectorizer__ngram_range': (4, 4), 'tfidfVectorizer__norm': 'l1'}</td>\n",
       "      <td>0.528735</td>\n",
       "      <td>0.509225</td>\n",
       "    </tr>\n",
       "    <tr>\n",
       "      <th>3</th>\n",
       "      <td>DummyClassifier</td>\n",
       "      <td>{'dummyClassifier__strategy': 'most_frequent', 'tfidfVectorizer__ngram_range': (4, 4)}</td>\n",
       "      <td>0.347104</td>\n",
       "      <td>0.331181</td>\n",
       "    </tr>\n",
       "  </tbody>\n",
       "</table>\n",
       "</div>"
      ],
      "text/plain": [
       "             classifier  \\\n",
       "0  KNeighborsClassifier   \n",
       "1                   SVC   \n",
       "2    LogisticRegression   \n",
       "3       DummyClassifier   \n",
       "\n",
       "                                                                                                                        best_params_  \\\n",
       "0                    {'kNeighborsClassifier__n_neighbors': 3, 'tfidfVectorizer__ngram_range': (4, 4), 'tfidfVectorizer__norm': 'l1'}   \n",
       "1  {'SVC__C': 1, 'SVC__gamma': 'scale', 'SVC__kernel': 'rbf', 'tfidfVectorizer__ngram_range': (4, 4), 'tfidfVectorizer__norm': 'l2'}   \n",
       "2                            {'logisticRegression__C': 0.001, 'tfidfVectorizer__ngram_range': (4, 4), 'tfidfVectorizer__norm': 'l1'}   \n",
       "3                                             {'dummyClassifier__strategy': 'most_frequent', 'tfidfVectorizer__ngram_range': (4, 4)}   \n",
       "\n",
       "   best_score_  test_score  \n",
       "0     0.232388    0.214945  \n",
       "1     0.545812    0.561808  \n",
       "2     0.528735    0.509225  \n",
       "3     0.347104    0.331181  "
      ]
     },
     "execution_count": 15,
     "metadata": {},
     "output_type": "execute_result"
    }
   ],
   "source": [
    "df = pd.read_pickle(RESULTS_PATH.joinpath(f'classification_protein_{RANDOM_STATE}.pkl'))\n",
    "\n",
    "df"
   ]
  },
  {
   "cell_type": "code",
   "execution_count": 11,
   "metadata": {},
   "outputs": [
    {
     "data": {
      "text/html": [
       "<div>\n",
       "<style scoped>\n",
       "    .dataframe tbody tr th:only-of-type {\n",
       "        vertical-align: middle;\n",
       "    }\n",
       "\n",
       "    .dataframe tbody tr th {\n",
       "        vertical-align: top;\n",
       "    }\n",
       "\n",
       "    .dataframe thead th {\n",
       "        text-align: right;\n",
       "    }\n",
       "</style>\n",
       "<table border=\"1\" class=\"dataframe\">\n",
       "  <thead>\n",
       "    <tr style=\"text-align: right;\">\n",
       "      <th></th>\n",
       "      <th>classifier</th>\n",
       "      <th>best_params_</th>\n",
       "      <th>best_score_</th>\n",
       "      <th>test_score</th>\n",
       "    </tr>\n",
       "  </thead>\n",
       "  <tbody>\n",
       "    <tr>\n",
       "      <th>0</th>\n",
       "      <td>KNeighborsClassifier</td>\n",
       "      <td>{'kNeighborsClassifier__n_neighbors': 3, 'tfidfVectorizer__ngram_range': (10, 10), 'tfidfVectorizer__norm': 'l1'}</td>\n",
       "      <td>0.231013</td>\n",
       "      <td>0.101818</td>\n",
       "    </tr>\n",
       "    <tr>\n",
       "      <th>1</th>\n",
       "      <td>SVC</td>\n",
       "      <td>{'SVC__C': 0.001, 'SVC__gamma': 'scale', 'SVC__kernel': 'linear', 'tfidfVectorizer__ngram_range': (10, 10), 'tfidfVectorizer__norm': 'l2'}</td>\n",
       "      <td>0.494994</td>\n",
       "      <td>0.512727</td>\n",
       "    </tr>\n",
       "    <tr>\n",
       "      <th>2</th>\n",
       "      <td>LogisticRegression</td>\n",
       "      <td>{'logisticRegression__C': 100, 'tfidfVectorizer__ngram_range': (10, 10), 'tfidfVectorizer__norm': 'l2'}</td>\n",
       "      <td>0.496791</td>\n",
       "      <td>0.494545</td>\n",
       "    </tr>\n",
       "    <tr>\n",
       "      <th>3</th>\n",
       "      <td>DummyClassifier</td>\n",
       "      <td>{'dummyClassifier__strategy': 'most_frequent', 'tfidfVectorizer__ngram_range': (10, 10)}</td>\n",
       "      <td>0.494994</td>\n",
       "      <td>0.512727</td>\n",
       "    </tr>\n",
       "  </tbody>\n",
       "</table>\n",
       "</div>"
      ],
      "text/plain": [
       "             classifier  \\\n",
       "0  KNeighborsClassifier   \n",
       "1                   SVC   \n",
       "2    LogisticRegression   \n",
       "3       DummyClassifier   \n",
       "\n",
       "                                                                                                                                 best_params_  \\\n",
       "0                           {'kNeighborsClassifier__n_neighbors': 3, 'tfidfVectorizer__ngram_range': (10, 10), 'tfidfVectorizer__norm': 'l1'}   \n",
       "1  {'SVC__C': 0.001, 'SVC__gamma': 'scale', 'SVC__kernel': 'linear', 'tfidfVectorizer__ngram_range': (10, 10), 'tfidfVectorizer__norm': 'l2'}   \n",
       "2                                     {'logisticRegression__C': 100, 'tfidfVectorizer__ngram_range': (10, 10), 'tfidfVectorizer__norm': 'l2'}   \n",
       "3                                                    {'dummyClassifier__strategy': 'most_frequent', 'tfidfVectorizer__ngram_range': (10, 10)}   \n",
       "\n",
       "   best_score_  test_score  \n",
       "0     0.231013    0.101818  \n",
       "1     0.494994    0.512727  \n",
       "2     0.496791    0.494545  \n",
       "3     0.494994    0.512727  "
      ]
     },
     "execution_count": 11,
     "metadata": {},
     "output_type": "execute_result"
    }
   ],
   "source": [
    "df = pd.read_pickle(RESULTS_PATH.joinpath(f'classification_exon_{RANDOM_STATE}.pkl'))\n",
    "\n",
    "df"
   ]
  },
  {
   "cell_type": "code",
   "execution_count": 13,
   "metadata": {},
   "outputs": [
    {
     "data": {
      "text/html": [
       "<div>\n",
       "<style scoped>\n",
       "    .dataframe tbody tr th:only-of-type {\n",
       "        vertical-align: middle;\n",
       "    }\n",
       "\n",
       "    .dataframe tbody tr th {\n",
       "        vertical-align: top;\n",
       "    }\n",
       "\n",
       "    .dataframe thead th {\n",
       "        text-align: right;\n",
       "    }\n",
       "</style>\n",
       "<table border=\"1\" class=\"dataframe\">\n",
       "  <thead>\n",
       "    <tr style=\"text-align: right;\">\n",
       "      <th></th>\n",
       "      <th>classifier</th>\n",
       "      <th>best_params_</th>\n",
       "      <th>best_score_</th>\n",
       "      <th>test_score</th>\n",
       "    </tr>\n",
       "  </thead>\n",
       "  <tbody>\n",
       "    <tr>\n",
       "      <th>0</th>\n",
       "      <td>KNeighborsClassifier</td>\n",
       "      <td>{'kNeighborsClassifier__n_neighbors': 3, 'tfidfVectorizer__ngram_range': (12, 12), 'tfidfVectorizer__norm': 'l2'}</td>\n",
       "      <td>0.335778</td>\n",
       "      <td>0.258182</td>\n",
       "    </tr>\n",
       "    <tr>\n",
       "      <th>1</th>\n",
       "      <td>SVC</td>\n",
       "      <td>{'SVC__C': 1000, 'SVC__gamma': 'scale', 'SVC__kernel': 'rbf', 'tfidfVectorizer__ngram_range': (12, 12), 'tfidfVectorizer__norm': 'l2'}</td>\n",
       "      <td>0.449527</td>\n",
       "      <td>0.494545</td>\n",
       "    </tr>\n",
       "    <tr>\n",
       "      <th>2</th>\n",
       "      <td>LogisticRegression</td>\n",
       "      <td>{'logisticRegression__C': 100, 'tfidfVectorizer__ngram_range': (12, 12), 'tfidfVectorizer__norm': 'l2'}</td>\n",
       "      <td>0.423142</td>\n",
       "      <td>0.396364</td>\n",
       "    </tr>\n",
       "    <tr>\n",
       "      <th>3</th>\n",
       "      <td>DummyClassifier</td>\n",
       "      <td>{'dummyClassifier__strategy': 'most_frequent', 'tfidfVectorizer__ngram_range': (12, 12)}</td>\n",
       "      <td>0.494994</td>\n",
       "      <td>0.512727</td>\n",
       "    </tr>\n",
       "  </tbody>\n",
       "</table>\n",
       "</div>"
      ],
      "text/plain": [
       "             classifier  \\\n",
       "0  KNeighborsClassifier   \n",
       "1                   SVC   \n",
       "2    LogisticRegression   \n",
       "3       DummyClassifier   \n",
       "\n",
       "                                                                                                                             best_params_  \\\n",
       "0                       {'kNeighborsClassifier__n_neighbors': 3, 'tfidfVectorizer__ngram_range': (12, 12), 'tfidfVectorizer__norm': 'l2'}   \n",
       "1  {'SVC__C': 1000, 'SVC__gamma': 'scale', 'SVC__kernel': 'rbf', 'tfidfVectorizer__ngram_range': (12, 12), 'tfidfVectorizer__norm': 'l2'}   \n",
       "2                                 {'logisticRegression__C': 100, 'tfidfVectorizer__ngram_range': (12, 12), 'tfidfVectorizer__norm': 'l2'}   \n",
       "3                                                {'dummyClassifier__strategy': 'most_frequent', 'tfidfVectorizer__ngram_range': (12, 12)}   \n",
       "\n",
       "   best_score_  test_score  \n",
       "0     0.335778    0.258182  \n",
       "1     0.449527    0.494545  \n",
       "2     0.423142    0.396364  \n",
       "3     0.494994    0.512727  "
      ]
     },
     "execution_count": 13,
     "metadata": {},
     "output_type": "execute_result"
    }
   ],
   "source": [
    "df = pd.read_pickle(RESULTS_PATH.joinpath(f'classification_unspliced_{RANDOM_STATE}.pkl'))\n",
    "\n",
    "df"
   ]
  },
  {
   "cell_type": "code",
   "execution_count": 9,
   "metadata": {},
   "outputs": [
    {
     "data": {
      "text/plain": [
       "2"
      ]
     },
     "execution_count": 9,
     "metadata": {},
     "output_type": "execute_result"
    }
   ],
   "source": [
    "x, y = [1,2]\n",
    "\n",
    "y"
   ]
  }
 ],
 "metadata": {
  "kernelspec": {
   "display_name": "development",
   "language": "python",
   "name": "python3"
  },
  "language_info": {
   "codemirror_mode": {
    "name": "ipython",
    "version": 3
   },
   "file_extension": ".py",
   "mimetype": "text/x-python",
   "name": "python",
   "nbconvert_exporter": "python",
   "pygments_lexer": "ipython3",
   "version": "3.9.10"
  },
  "orig_nbformat": 4,
  "vscode": {
   "interpreter": {
    "hash": "a2d6514f9963693ddf9848f840dcbc46c3e7b9abcac09ab97b6beeb9a964f0bf"
   }
  }
 },
 "nbformat": 4,
 "nbformat_minor": 2
}
