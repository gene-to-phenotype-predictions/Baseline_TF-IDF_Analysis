{
 "cells": [
  {
   "cell_type": "code",
   "execution_count": null,
   "metadata": {},
   "outputs": [],
   "source": [
    "import os as os\n",
    "import sys as sys\n",
    "import re as re\n",
    "import pandas as pd\n",
    "import numpy as np\n",
    "import json as json\n",
    "import pickle\n",
    "from subprocess import run\n",
    "\n",
    "\n",
    "pd.options.display.max_columns = 100\n",
    "pd.options.display.min_rows = None\n",
    "pd.options.display.max_rows = 20\n",
    "pd.options.display.max_colwidth = 1000\n",
    "\n",
    "from config import RESULTS_PATH"
   ]
  },
  {
   "cell_type": "code",
   "execution_count": null,
   "metadata": {},
   "outputs": [],
   "source": [
    "with open(RESULTS_PATH.joinpath('protein_1_73.pkl'), 'rb') as f:\n",
    "    data = pickle.load(f)\n",
    "\n",
    "RANDOM_STATE, X_train, y_train, X_test, y_test, estimator_model = data.values()\n",
    "\n",
    "records = []\n",
    "\n",
    "for est, model in estimator_model.items():\n",
    "\n",
    "    records.append({\n",
    "        'estimator':est,\n",
    "        'best_params_': model.best_params_,\n",
    "        'best_score_': model.best_score_,\n",
    "        'test_score':  model.score(X_test, y_test)\n",
    "        })\n",
    "    \n",
    "df = pd.DataFrame(records)\n",
    "\n",
    "df.to_csv(RESULTS_PATH.joinpath('protein_1_73.csv'), index=False)\n",
    "\n",
    "_df_protein = df.copy()"
   ]
  },
  {
   "cell_type": "code",
   "execution_count": null,
   "metadata": {},
   "outputs": [],
   "source": [
    "df = _df_protein.copy()\n",
    "\n",
    "df"
   ]
  },
  {
   "cell_type": "code",
   "execution_count": null,
   "metadata": {},
   "outputs": [],
   "source": [
    "with open(RESULTS_PATH.joinpath('exon_1_73.pkl'), 'rb') as f:\n",
    "    data = pickle.load(f)\n",
    "\n",
    "RANDOM_STATE, X_train, y_train, X_test, y_test, estimator_model = data.values()\n",
    "\n",
    "records = []\n",
    "\n",
    "for est, model in estimator_model.items():\n",
    "\n",
    "    records.append({\n",
    "        'estimator':est,\n",
    "        'best_params_': model.best_params_,\n",
    "        'best_score_': model.best_score_,\n",
    "        'test_score':  model.score(X_test, y_test)\n",
    "        })\n",
    "    \n",
    "df = pd.DataFrame(records)\n",
    "\n",
    "df.to_csv(RESULTS_PATH.joinpath('exon_1_73.csv'), index=False)\n",
    "\n",
    "_df_exon = df.copy()"
   ]
  },
  {
   "cell_type": "code",
   "execution_count": null,
   "metadata": {},
   "outputs": [],
   "source": [
    "df = _df_exon.copy()\n",
    "\n",
    "df"
   ]
  },
  {
   "cell_type": "code",
   "execution_count": null,
   "metadata": {},
   "outputs": [],
   "source": [
    "with open(RESULTS_PATH.joinpath('unspliced_1_73.pkl'), 'rb') as f:\n",
    "    data = pickle.load(f)\n",
    "\n",
    "RANDOM_STATE, X_train, y_train, X_test, y_test, estimator_model = data.values()\n",
    "\n",
    "records = []\n",
    "\n",
    "for est, model in estimator_model.items():\n",
    "\n",
    "    records.append({\n",
    "        'estimator':est,\n",
    "        'best_params_': model.best_params_,\n",
    "        'best_score_': model.best_score_,\n",
    "        'test_score':  model.score(X_test, y_test)\n",
    "        })\n",
    "    \n",
    "df = pd.DataFrame(records)\n",
    "\n",
    "df.to_csv(RESULTS_PATH.joinpath('unspliced_1_73.csv'), index=False)\n",
    "\n",
    "_df_unspliced = df.copy()"
   ]
  },
  {
   "cell_type": "code",
   "execution_count": null,
   "metadata": {},
   "outputs": [],
   "source": [
    "df = _df_unspliced.copy()\n",
    "\n",
    "df"
   ]
  }
 ],
 "metadata": {
  "kernelspec": {
   "display_name": "py39",
   "language": "python",
   "name": "python3"
  },
  "language_info": {
   "codemirror_mode": {
    "name": "ipython",
    "version": 3
   },
   "file_extension": ".py",
   "mimetype": "text/x-python",
   "name": "python",
   "nbconvert_exporter": "python",
   "pygments_lexer": "ipython3",
   "version": "3.9.16"
  },
  "orig_nbformat": 4,
  "vscode": {
   "interpreter": {
    "hash": "0f5a67c8f338a2aa83971d908da2f9f4f3ea4b50553efdb05feea12445a21cfa"
   }
  }
 },
 "nbformat": 4,
 "nbformat_minor": 2
}
