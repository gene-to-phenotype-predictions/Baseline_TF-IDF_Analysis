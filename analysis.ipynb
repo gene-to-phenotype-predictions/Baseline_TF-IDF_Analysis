{
 "cells": [
  {
   "cell_type": "code",
   "execution_count": 1,
   "metadata": {},
   "outputs": [
    {
     "name": "stdout",
     "output_type": "stream",
     "text": [
      "8\n"
     ]
    }
   ],
   "source": [
    "import os as os\n",
    "import sys as sys\n",
    "import re as re\n",
    "import pandas as pd\n",
    "import numpy as np\n",
    "import json as json\n",
    "import pickle\n",
    "from subprocess import run\n",
    "\n",
    "\n",
    "pd.options.display.max_columns = 100\n",
    "pd.options.display.min_rows = None\n",
    "pd.options.display.max_rows = 20\n",
    "pd.options.display.max_colwidth = 1000\n",
    "\n",
    "from config import RESULTS_PATH"
   ]
  },
  {
   "cell_type": "code",
   "execution_count": 2,
   "metadata": {},
   "outputs": [
    {
     "name": "stderr",
     "output_type": "stream",
     "text": [
      "/data1/home/adpatter/.conda/envs/py39/lib/python3.9/site-packages/sklearn/base.py:318: UserWarning: Trying to unpickle estimator KNeighborsClassifier from version 1.0.2 when using version 1.2.2. This might lead to breaking code or invalid results. Use at your own risk. For more info please refer to:\n",
      "https://scikit-learn.org/stable/model_persistence.html#security-maintainability-limitations\n",
      "  warnings.warn(\n",
      "/data1/home/adpatter/.conda/envs/py39/lib/python3.9/site-packages/sklearn/base.py:318: UserWarning: Trying to unpickle estimator TfidfTransformer from version 1.0.2 when using version 1.2.2. This might lead to breaking code or invalid results. Use at your own risk. For more info please refer to:\n",
      "https://scikit-learn.org/stable/model_persistence.html#security-maintainability-limitations\n",
      "  warnings.warn(\n",
      "/data1/home/adpatter/.conda/envs/py39/lib/python3.9/site-packages/sklearn/base.py:318: UserWarning: Trying to unpickle estimator TfidfVectorizer from version 1.0.2 when using version 1.2.2. This might lead to breaking code or invalid results. Use at your own risk. For more info please refer to:\n",
      "https://scikit-learn.org/stable/model_persistence.html#security-maintainability-limitations\n",
      "  warnings.warn(\n",
      "/data1/home/adpatter/.conda/envs/py39/lib/python3.9/site-packages/sklearn/base.py:318: UserWarning: Trying to unpickle estimator NearestNeighbors from version 1.0.2 when using version 1.2.2. This might lead to breaking code or invalid results. Use at your own risk. For more info please refer to:\n",
      "https://scikit-learn.org/stable/model_persistence.html#security-maintainability-limitations\n",
      "  warnings.warn(\n",
      "/data1/home/adpatter/.conda/envs/py39/lib/python3.9/site-packages/sklearn/base.py:318: UserWarning: Trying to unpickle estimator GridSearchCV from version 1.0.2 when using version 1.2.2. This might lead to breaking code or invalid results. Use at your own risk. For more info please refer to:\n",
      "https://scikit-learn.org/stable/model_persistence.html#security-maintainability-limitations\n",
      "  warnings.warn(\n",
      "/data1/home/adpatter/.conda/envs/py39/lib/python3.9/site-packages/sklearn/base.py:318: UserWarning: Trying to unpickle estimator LogisticRegression from version 1.0.2 when using version 1.2.2. This might lead to breaking code or invalid results. Use at your own risk. For more info please refer to:\n",
      "https://scikit-learn.org/stable/model_persistence.html#security-maintainability-limitations\n",
      "  warnings.warn(\n",
      "/data1/home/adpatter/.conda/envs/py39/lib/python3.9/site-packages/sklearn/base.py:318: UserWarning: Trying to unpickle estimator SVC from version 1.0.2 when using version 1.2.2. This might lead to breaking code or invalid results. Use at your own risk. For more info please refer to:\n",
      "https://scikit-learn.org/stable/model_persistence.html#security-maintainability-limitations\n",
      "  warnings.warn(\n",
      "/data1/home/adpatter/.conda/envs/py39/lib/python3.9/site-packages/sklearn/base.py:318: UserWarning: Trying to unpickle estimator DummyClassifier from version 1.0.2 when using version 1.2.2. This might lead to breaking code or invalid results. Use at your own risk. For more info please refer to:\n",
      "https://scikit-learn.org/stable/model_persistence.html#security-maintainability-limitations\n",
      "  warnings.warn(\n"
     ]
    }
   ],
   "source": [
    "with open(RESULTS_PATH.joinpath('protein_1_73.pkl'), 'rb') as f:\n",
    "    data = pickle.load(f)\n",
    "\n",
    "RANDOM_STATE, X_train, y_train, X_test, y_test, estimator_model = data.values()\n",
    "\n",
    "records = []\n",
    "\n",
    "for est, model in estimator_model.items():\n",
    "\n",
    "    records.append({\n",
    "        'estimator':est,\n",
    "        'best_params_': model.best_params_,\n",
    "        'best_score_': model.best_score_,\n",
    "        'test_score':  model.score(X_test, y_test)\n",
    "        })\n",
    "    \n",
    "df = pd.DataFrame(records)\n",
    "\n",
    "df.to_csv(RESULTS_PATH.joinpath('protein_1_73.csv'), index=False)\n",
    "\n",
    "_df_protein = df.copy()"
   ]
  },
  {
   "cell_type": "code",
   "execution_count": 3,
   "metadata": {},
   "outputs": [
    {
     "ename": "AttributeError",
     "evalue": "'numpy.ndarray' object has no attribute 'value_counts'",
     "output_type": "error",
     "traceback": [
      "\u001b[0;31m---------------------------------------------------------------------------\u001b[0m",
      "\u001b[0;31mAttributeError\u001b[0m                            Traceback (most recent call last)",
      "Cell \u001b[0;32mIn[3], line 1\u001b[0m\n\u001b[0;32m----> 1\u001b[0m y_test\u001b[39m.\u001b[39;49mvalue_counts()\n",
      "\u001b[0;31mAttributeError\u001b[0m: 'numpy.ndarray' object has no attribute 'value_counts'"
     ]
    }
   ],
   "source": [
    "y_test.value_counts()"
   ]
  },
  {
   "cell_type": "code",
   "execution_count": null,
   "metadata": {},
   "outputs": [],
   "source": [
    "df = _df_protein.copy()\n",
    "\n",
    "df"
   ]
  },
  {
   "cell_type": "code",
   "execution_count": null,
   "metadata": {},
   "outputs": [],
   "source": [
    "with open(RESULTS_PATH.joinpath('exon_1_73.pkl'), 'rb') as f:\n",
    "    data = pickle.load(f)\n",
    "\n",
    "RANDOM_STATE, X_train, y_train, X_test, y_test, estimator_model = data.values()\n",
    "\n",
    "records = []\n",
    "\n",
    "for est, model in estimator_model.items():\n",
    "\n",
    "    records.append({\n",
    "        'estimator':est,\n",
    "        'best_params_': model.best_params_,\n",
    "        'best_score_': model.best_score_,\n",
    "        'test_score':  model.score(X_test, y_test)\n",
    "        })\n",
    "    \n",
    "df = pd.DataFrame(records)\n",
    "\n",
    "df.to_csv(RESULTS_PATH.joinpath('exon_1_73.csv'), index=False)\n",
    "\n",
    "_df_exon = df.copy()"
   ]
  },
  {
   "cell_type": "code",
   "execution_count": null,
   "metadata": {},
   "outputs": [],
   "source": [
    "df = _df_exon.copy()\n",
    "\n",
    "df"
   ]
  },
  {
   "cell_type": "code",
   "execution_count": null,
   "metadata": {},
   "outputs": [],
   "source": [
    "with open(RESULTS_PATH.joinpath('unspliced_1_73.pkl'), 'rb') as f:\n",
    "    data = pickle.load(f)\n",
    "\n",
    "RANDOM_STATE, X_train, y_train, X_test, y_test, estimator_model = data.values()\n",
    "\n",
    "records = []\n",
    "\n",
    "for est, model in estimator_model.items():\n",
    "\n",
    "    records.append({\n",
    "        'estimator':est,\n",
    "        'best_params_': model.best_params_,\n",
    "        'best_score_': model.best_score_,\n",
    "        'test_score':  model.score(X_test, y_test)\n",
    "        })\n",
    "    \n",
    "df = pd.DataFrame(records)\n",
    "\n",
    "df.to_csv(RESULTS_PATH.joinpath('unspliced_1_73.csv'), index=False)\n",
    "\n",
    "_df_unspliced = df.copy()"
   ]
  },
  {
   "cell_type": "code",
   "execution_count": null,
   "metadata": {},
   "outputs": [],
   "source": [
    "df = _df_unspliced.copy()\n",
    "\n",
    "df"
   ]
  }
 ],
 "metadata": {
  "kernelspec": {
   "display_name": "py39",
   "language": "python",
   "name": "python3"
  },
  "language_info": {
   "codemirror_mode": {
    "name": "ipython",
    "version": 3
   },
   "file_extension": ".py",
   "mimetype": "text/x-python",
   "name": "python",
   "nbconvert_exporter": "python",
   "pygments_lexer": "ipython3",
   "version": "3.9.16"
  },
  "orig_nbformat": 4,
  "vscode": {
   "interpreter": {
    "hash": "0f5a67c8f338a2aa83971d908da2f9f4f3ea4b50553efdb05feea12445a21cfa"
   }
  }
 },
 "nbformat": 4,
 "nbformat_minor": 2
}
